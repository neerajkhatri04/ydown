{
 "cells": [
  {
   "cell_type": "code",
   "execution_count": 1,
   "metadata": {},
   "outputs": [],
   "source": [
    "import os\n",
    "import json"
   ]
  },
  {
   "cell_type": "code",
   "execution_count": 2,
   "metadata": {},
   "outputs": [],
   "source": [
    "command = 'youtube-dl \"https://www.youtube.com/watch?v=Tx_4KXbKCTQ\" -j'"
   ]
  },
  {
   "cell_type": "code",
   "execution_count": 3,
   "metadata": {},
   "outputs": [],
   "source": [
    "output = os.popen(command).read()"
   ]
  },
  {
   "cell_type": "code",
   "execution_count": 4,
   "metadata": {},
   "outputs": [],
   "source": [
    "video_data = json.loads(output)"
   ]
  },
  {
   "cell_type": "code",
   "execution_count": 5,
   "metadata": {},
   "outputs": [],
   "source": [
    "title = video_data[\"title\"]"
   ]
  },
  {
   "cell_type": "code",
   "execution_count": 6,
   "metadata": {},
   "outputs": [],
   "source": [
    "formats = video_data[\"formats\"]"
   ]
  },
  {
   "cell_type": "code",
   "execution_count": 7,
   "metadata": {},
   "outputs": [],
   "source": [
    "format_one = formats[0]"
   ]
  },
  {
   "cell_type": "code",
   "execution_count": 8,
   "metadata": {},
   "outputs": [],
   "source": [
    "extension = format_one[\"ext\"]"
   ]
  },
  {
   "cell_type": "code",
   "execution_count": 9,
   "metadata": {},
   "outputs": [],
   "source": [
    "video_format = format_one[\"format\"]\n",
    "url = format_one[\"url\"]"
   ]
  },
  {
   "cell_type": "code",
   "execution_count": 10,
   "metadata": {},
   "outputs": [
    {
     "data": {
      "text/plain": [
       "('m4a',\n",
       " '140-drc - audio only (audio_quality_medium)',\n",
       " 'https://rr2---sn-gwpa-qxael.googlevideo.com/videoplayback?expire=1715544182&ei=FsxAZuu7I5q_vcAPwe29wAk&ip=2405%3A201%3A404a%3A4019%3A70ee%3Af9bc%3Ab331%3A5167&id=o-AOlwk-HWhJd5lp1hKkUs9FfSxFWySIjvb1hV_fMPB8jA&itag=140&source=youtube&requiressl=yes&xpc=EgVo2aDSNQ%3D%3D&mh=wJ&mm=31%2C29&mn=sn-gwpa-qxael%2Csn-gwpa-qxay&ms=au%2Crdu&mv=m&mvi=2&pl=42&initcwndbps=695000&bui=AWRWj2Rg_ZL6uyzpIMunxYaAEJemm9i7USOCie-X2YCGiebC92wjv1XiJoFNfr1FY79rlNZWN2a7bVcU&spc=UWF9f6gpUuxh4tGvm-1W_bWw7upOcOUnTXQryDlS0o7EZmyYwy8n8-Q&vprv=1&svpuc=1&xtags=drc%3D1&mime=audio%2Fmp4&ns=xB7QQ9GLJbC3VTSR2jBKfcsQ&rqh=1&gir=yes&clen=3043447&dur=188.011&lmt=1677541483092440&mt=1715522214&fvip=1&keepalive=yes&c=WEB&sefc=1&txp=6211224&n=FKxQFXFnyfo2pQ&sparams=expire%2Cei%2Cip%2Cid%2Citag%2Csource%2Crequiressl%2Cxpc%2Cbui%2Cspc%2Cvprv%2Csvpuc%2Cxtags%2Cmime%2Cns%2Crqh%2Cgir%2Cclen%2Cdur%2Clmt&sig=AJfQdSswRQIhAJAGSOT7u8AVAGiJVEiDmEQELca2QpLxmTZPeuJnL3gWAiBJnI4qu7v2zIvlu9v7icnAN1RKxKa_UWuoUgC6WitCAA%3D%3D&lsparams=mh%2Cmm%2Cmn%2Cms%2Cmv%2Cmvi%2Cpl%2Cinitcwndbps&lsig=AHWaYeowRgIhANQwThWXJWLesNeuqDfE6Ed8crydo7XFUIqA2QO8nO9jAiEAjPEY-CKGDnYv2WePu7rga486nAjODy6VmHJylK451C4%3D')"
      ]
     },
     "execution_count": 10,
     "metadata": {},
     "output_type": "execute_result"
    }
   ],
   "source": [
    "extension, video_format, url"
   ]
  },
  {
   "cell_type": "code",
   "execution_count": 11,
   "metadata": {},
   "outputs": [],
   "source": [
    "def extract_formate_data(formate_data):\n",
    "    extension = formate_data[\"ext\"]\n",
    "    video_format = formate_data[\"format\"]\n",
    "    url = formate_data[\"url\"]\n",
    "    return {\"extension\": extension, \n",
    "            \"video_format\": video_format, \n",
    "            \"url\": url}"
   ]
  },
  {
   "cell_type": "code",
   "execution_count": 12,
   "metadata": {},
   "outputs": [
    {
     "data": {
      "text/plain": [
       "{'extension': 'webm',\n",
       " 'video_format': '251-drc - audio only (audio_quality_medium)',\n",
       " 'url': 'https://rr2---sn-gwpa-qxael.googlevideo.com/videoplayback?expire=1715544182&ei=FsxAZuu7I5q_vcAPwe29wAk&ip=2405%3A201%3A404a%3A4019%3A70ee%3Af9bc%3Ab331%3A5167&id=o-AOlwk-HWhJd5lp1hKkUs9FfSxFWySIjvb1hV_fMPB8jA&itag=251&source=youtube&requiressl=yes&xpc=EgVo2aDSNQ%3D%3D&mh=wJ&mm=31%2C29&mn=sn-gwpa-qxael%2Csn-gwpa-qxay&ms=au%2Crdu&mv=m&mvi=2&pl=42&initcwndbps=695000&bui=AWRWj2Rg_ZL6uyzpIMunxYaAEJemm9i7USOCie-X2YCGiebC92wjv1XiJoFNfr1FY79rlNZWN2a7bVcU&spc=UWF9f6gpUuxh4tGvm-1W_bWw7upOcOUnTXQryDlS0o7EZmyYwy8n8-Q&vprv=1&svpuc=1&xtags=drc%3D1&mime=audio%2Fwebm&ns=xB7QQ9GLJbC3VTSR2jBKfcsQ&rqh=1&gir=yes&clen=3598384&dur=187.981&lmt=1665216608319052&mt=1715522214&fvip=1&keepalive=yes&c=WEB&sefc=1&txp=6211224&n=FKxQFXFnyfo2pQ&sparams=expire%2Cei%2Cip%2Cid%2Citag%2Csource%2Crequiressl%2Cxpc%2Cbui%2Cspc%2Cvprv%2Csvpuc%2Cxtags%2Cmime%2Cns%2Crqh%2Cgir%2Cclen%2Cdur%2Clmt&sig=AJfQdSswRQIgGm7-N2hoG2r12HhTnhtxqKHElmNvNIcMlc7D65g0VW4CIQCGBh0kGIiy_dCc-BaWhni_gjEMRCnPaaJUXSP3iQ3xNQ%3D%3D&lsparams=mh%2Cmm%2Cmn%2Cms%2Cmv%2Cmvi%2Cpl%2Cinitcwndbps&lsig=AHWaYeowRgIhANQwThWXJWLesNeuqDfE6Ed8crydo7XFUIqA2QO8nO9jAiEAjPEY-CKGDnYv2WePu7rga486nAjODy6VmHJylK451C4%3D'}"
      ]
     },
     "execution_count": 12,
     "metadata": {},
     "output_type": "execute_result"
    }
   ],
   "source": [
    "extract_formate_data(formats[3])"
   ]
  },
  {
   "cell_type": "code",
   "execution_count": 13,
   "metadata": {},
   "outputs": [],
   "source": [
    "all_formats = [extract_formate_data(i) for i in formats]"
   ]
  },
  {
   "cell_type": "code",
   "execution_count": 14,
   "metadata": {},
   "outputs": [
    {
     "data": {
      "text/plain": [
       "[{'extension': 'm4a',\n",
       "  'video_format': '140-drc - audio only (audio_quality_medium)',\n",
       "  'url': 'https://rr2---sn-gwpa-qxael.googlevideo.com/videoplayback?expire=1715544182&ei=FsxAZuu7I5q_vcAPwe29wAk&ip=2405%3A201%3A404a%3A4019%3A70ee%3Af9bc%3Ab331%3A5167&id=o-AOlwk-HWhJd5lp1hKkUs9FfSxFWySIjvb1hV_fMPB8jA&itag=140&source=youtube&requiressl=yes&xpc=EgVo2aDSNQ%3D%3D&mh=wJ&mm=31%2C29&mn=sn-gwpa-qxael%2Csn-gwpa-qxay&ms=au%2Crdu&mv=m&mvi=2&pl=42&initcwndbps=695000&bui=AWRWj2Rg_ZL6uyzpIMunxYaAEJemm9i7USOCie-X2YCGiebC92wjv1XiJoFNfr1FY79rlNZWN2a7bVcU&spc=UWF9f6gpUuxh4tGvm-1W_bWw7upOcOUnTXQryDlS0o7EZmyYwy8n8-Q&vprv=1&svpuc=1&xtags=drc%3D1&mime=audio%2Fmp4&ns=xB7QQ9GLJbC3VTSR2jBKfcsQ&rqh=1&gir=yes&clen=3043447&dur=188.011&lmt=1677541483092440&mt=1715522214&fvip=1&keepalive=yes&c=WEB&sefc=1&txp=6211224&n=FKxQFXFnyfo2pQ&sparams=expire%2Cei%2Cip%2Cid%2Citag%2Csource%2Crequiressl%2Cxpc%2Cbui%2Cspc%2Cvprv%2Csvpuc%2Cxtags%2Cmime%2Cns%2Crqh%2Cgir%2Cclen%2Cdur%2Clmt&sig=AJfQdSswRQIhAJAGSOT7u8AVAGiJVEiDmEQELca2QpLxmTZPeuJnL3gWAiBJnI4qu7v2zIvlu9v7icnAN1RKxKa_UWuoUgC6WitCAA%3D%3D&lsparams=mh%2Cmm%2Cmn%2Cms%2Cmv%2Cmvi%2Cpl%2Cinitcwndbps&lsig=AHWaYeowRgIhANQwThWXJWLesNeuqDfE6Ed8crydo7XFUIqA2QO8nO9jAiEAjPEY-CKGDnYv2WePu7rga486nAjODy6VmHJylK451C4%3D'},\n",
       " {'extension': 'm4a',\n",
       "  'video_format': '140 - audio only (audio_quality_medium)',\n",
       "  'url': 'https://rr2---sn-gwpa-qxael.googlevideo.com/videoplayback?expire=1715544182&ei=FsxAZuu7I5q_vcAPwe29wAk&ip=2405%3A201%3A404a%3A4019%3A70ee%3Af9bc%3Ab331%3A5167&id=o-AOlwk-HWhJd5lp1hKkUs9FfSxFWySIjvb1hV_fMPB8jA&itag=140&source=youtube&requiressl=yes&xpc=EgVo2aDSNQ%3D%3D&mh=wJ&mm=31%2C29&mn=sn-gwpa-qxael%2Csn-gwpa-qxay&ms=au%2Crdu&mv=m&mvi=2&pl=42&initcwndbps=695000&bui=AWRWj2Rg_ZL6uyzpIMunxYaAEJemm9i7USOCie-X2YCGiebC92wjv1XiJoFNfr1FY79rlNZWN2a7bVcU&spc=UWF9f6gpUuxh4tGvm-1W_bWw7upOcOUnTXQryDlS0o7EZmyYwy8n8-Q&vprv=1&svpuc=1&mime=audio%2Fmp4&ns=xB7QQ9GLJbC3VTSR2jBKfcsQ&rqh=1&gir=yes&clen=3044198&dur=188.058&lmt=1677541483092388&mt=1715522214&fvip=1&keepalive=yes&c=WEB&sefc=1&txp=6211224&n=FKxQFXFnyfo2pQ&sparams=expire%2Cei%2Cip%2Cid%2Citag%2Csource%2Crequiressl%2Cxpc%2Cbui%2Cspc%2Cvprv%2Csvpuc%2Cmime%2Cns%2Crqh%2Cgir%2Cclen%2Cdur%2Clmt&sig=AJfQdSswRAIgasg3NoRC2rDGoqWlRxt5kvnaN39bI92PWCvCkoCJlwYCICRwmNBFLC6mYM3UPXADGm4v4FGNU-pqt8MIIppJ45gh&lsparams=mh%2Cmm%2Cmn%2Cms%2Cmv%2Cmvi%2Cpl%2Cinitcwndbps&lsig=AHWaYeowRgIhANQwThWXJWLesNeuqDfE6Ed8crydo7XFUIqA2QO8nO9jAiEAjPEY-CKGDnYv2WePu7rga486nAjODy6VmHJylK451C4%3D'},\n",
       " {'extension': 'webm',\n",
       "  'video_format': '251 - audio only (audio_quality_medium)',\n",
       "  'url': 'https://rr2---sn-gwpa-qxael.googlevideo.com/videoplayback?expire=1715544182&ei=FsxAZuu7I5q_vcAPwe29wAk&ip=2405%3A201%3A404a%3A4019%3A70ee%3Af9bc%3Ab331%3A5167&id=o-AOlwk-HWhJd5lp1hKkUs9FfSxFWySIjvb1hV_fMPB8jA&itag=251&source=youtube&requiressl=yes&xpc=EgVo2aDSNQ%3D%3D&mh=wJ&mm=31%2C29&mn=sn-gwpa-qxael%2Csn-gwpa-qxay&ms=au%2Crdu&mv=m&mvi=2&pl=42&initcwndbps=695000&bui=AWRWj2Rg_ZL6uyzpIMunxYaAEJemm9i7USOCie-X2YCGiebC92wjv1XiJoFNfr1FY79rlNZWN2a7bVcU&spc=UWF9f6gpUuxh4tGvm-1W_bWw7upOcOUnTXQryDlS0o7EZmyYwy8n8-Q&vprv=1&svpuc=1&mime=audio%2Fwebm&ns=xB7QQ9GLJbC3VTSR2jBKfcsQ&rqh=1&gir=yes&clen=3598163&dur=187.981&lmt=1587566285564466&mt=1715522214&fvip=1&keepalive=yes&c=WEB&sefc=1&txp=6211222&n=FKxQFXFnyfo2pQ&sparams=expire%2Cei%2Cip%2Cid%2Citag%2Csource%2Crequiressl%2Cxpc%2Cbui%2Cspc%2Cvprv%2Csvpuc%2Cmime%2Cns%2Crqh%2Cgir%2Cclen%2Cdur%2Clmt&sig=AJfQdSswRQIhALWmILl4VtHkMviWzcJLW32UovtwD3A72JiZyKZcqxl9AiAs4NPL_HCIJUWfgRPpFNKG0Wu2Vh9jKzACk5kATCT0fQ%3D%3D&lsparams=mh%2Cmm%2Cmn%2Cms%2Cmv%2Cmvi%2Cpl%2Cinitcwndbps&lsig=AHWaYeowRgIhANQwThWXJWLesNeuqDfE6Ed8crydo7XFUIqA2QO8nO9jAiEAjPEY-CKGDnYv2WePu7rga486nAjODy6VmHJylK451C4%3D'},\n",
       " {'extension': 'webm',\n",
       "  'video_format': '251-drc - audio only (audio_quality_medium)',\n",
       "  'url': 'https://rr2---sn-gwpa-qxael.googlevideo.com/videoplayback?expire=1715544182&ei=FsxAZuu7I5q_vcAPwe29wAk&ip=2405%3A201%3A404a%3A4019%3A70ee%3Af9bc%3Ab331%3A5167&id=o-AOlwk-HWhJd5lp1hKkUs9FfSxFWySIjvb1hV_fMPB8jA&itag=251&source=youtube&requiressl=yes&xpc=EgVo2aDSNQ%3D%3D&mh=wJ&mm=31%2C29&mn=sn-gwpa-qxael%2Csn-gwpa-qxay&ms=au%2Crdu&mv=m&mvi=2&pl=42&initcwndbps=695000&bui=AWRWj2Rg_ZL6uyzpIMunxYaAEJemm9i7USOCie-X2YCGiebC92wjv1XiJoFNfr1FY79rlNZWN2a7bVcU&spc=UWF9f6gpUuxh4tGvm-1W_bWw7upOcOUnTXQryDlS0o7EZmyYwy8n8-Q&vprv=1&svpuc=1&xtags=drc%3D1&mime=audio%2Fwebm&ns=xB7QQ9GLJbC3VTSR2jBKfcsQ&rqh=1&gir=yes&clen=3598384&dur=187.981&lmt=1665216608319052&mt=1715522214&fvip=1&keepalive=yes&c=WEB&sefc=1&txp=6211224&n=FKxQFXFnyfo2pQ&sparams=expire%2Cei%2Cip%2Cid%2Citag%2Csource%2Crequiressl%2Cxpc%2Cbui%2Cspc%2Cvprv%2Csvpuc%2Cxtags%2Cmime%2Cns%2Crqh%2Cgir%2Cclen%2Cdur%2Clmt&sig=AJfQdSswRQIgGm7-N2hoG2r12HhTnhtxqKHElmNvNIcMlc7D65g0VW4CIQCGBh0kGIiy_dCc-BaWhni_gjEMRCnPaaJUXSP3iQ3xNQ%3D%3D&lsparams=mh%2Cmm%2Cmn%2Cms%2Cmv%2Cmvi%2Cpl%2Cinitcwndbps&lsig=AHWaYeowRgIhANQwThWXJWLesNeuqDfE6Ed8crydo7XFUIqA2QO8nO9jAiEAjPEY-CKGDnYv2WePu7rga486nAjODy6VmHJylK451C4%3D'},\n",
       " {'extension': 'mp4',\n",
       "  'video_format': '160 - 256x144 (144p)',\n",
       "  'url': 'https://rr2---sn-gwpa-qxael.googlevideo.com/videoplayback?expire=1715544182&ei=FsxAZuu7I5q_vcAPwe29wAk&ip=2405%3A201%3A404a%3A4019%3A70ee%3Af9bc%3Ab331%3A5167&id=o-AOlwk-HWhJd5lp1hKkUs9FfSxFWySIjvb1hV_fMPB8jA&itag=160&aitags=134%2C136%2C160&source=youtube&requiressl=yes&xpc=EgVo2aDSNQ%3D%3D&mh=wJ&mm=31%2C29&mn=sn-gwpa-qxael%2Csn-gwpa-qxay&ms=au%2Crdu&mv=m&mvi=2&pl=42&initcwndbps=695000&bui=AWRWj2Rg_ZL6uyzpIMunxYaAEJemm9i7USOCie-X2YCGiebC92wjv1XiJoFNfr1FY79rlNZWN2a7bVcU&spc=UWF9f6gpUuxh4tGvm-1W_bWw7upOcOUnTXQryDlS0o7EZmyYwy8n8-Q&vprv=1&svpuc=1&mime=video%2Fmp4&ns=xB7QQ9GLJbC3VTSR2jBKfcsQ&rqh=1&gir=yes&clen=619794&dur=187.999&lmt=1677542100227579&mt=1715522214&fvip=1&keepalive=yes&c=WEB&sefc=1&txp=6216224&n=FKxQFXFnyfo2pQ&sparams=expire%2Cei%2Cip%2Cid%2Caitags%2Csource%2Crequiressl%2Cxpc%2Cbui%2Cspc%2Cvprv%2Csvpuc%2Cmime%2Cns%2Crqh%2Cgir%2Cclen%2Cdur%2Clmt&sig=AJfQdSswRgIhAKyowpFSpCG-4tuIwso_ZskQirXEj3KnUPyDKQ-6bNcuAiEA6KXTJQRFzeZ5GslFWPwu78kZWfQAAd_gsHh6Pj8LJg8%3D&lsparams=mh%2Cmm%2Cmn%2Cms%2Cmv%2Cmvi%2Cpl%2Cinitcwndbps&lsig=AHWaYeowRgIhANQwThWXJWLesNeuqDfE6Ed8crydo7XFUIqA2QO8nO9jAiEAjPEY-CKGDnYv2WePu7rga486nAjODy6VmHJylK451C4%3D'},\n",
       " {'extension': 'mp4',\n",
       "  'video_format': '134 - 640x360 (360p)',\n",
       "  'url': 'https://rr2---sn-gwpa-qxael.googlevideo.com/videoplayback?expire=1715544182&ei=FsxAZuu7I5q_vcAPwe29wAk&ip=2405%3A201%3A404a%3A4019%3A70ee%3Af9bc%3Ab331%3A5167&id=o-AOlwk-HWhJd5lp1hKkUs9FfSxFWySIjvb1hV_fMPB8jA&itag=134&aitags=134%2C136%2C160&source=youtube&requiressl=yes&xpc=EgVo2aDSNQ%3D%3D&mh=wJ&mm=31%2C29&mn=sn-gwpa-qxael%2Csn-gwpa-qxay&ms=au%2Crdu&mv=m&mvi=2&pl=42&initcwndbps=695000&bui=AWRWj2Rg_ZL6uyzpIMunxYaAEJemm9i7USOCie-X2YCGiebC92wjv1XiJoFNfr1FY79rlNZWN2a7bVcU&spc=UWF9f6gpUuxh4tGvm-1W_bWw7upOcOUnTXQryDlS0o7EZmyYwy8n8-Q&vprv=1&svpuc=1&mime=video%2Fmp4&ns=xB7QQ9GLJbC3VTSR2jBKfcsQ&rqh=1&gir=yes&clen=1963249&dur=187.999&lmt=1677542097501000&mt=1715522214&fvip=1&keepalive=yes&c=WEB&sefc=1&txp=6216224&n=FKxQFXFnyfo2pQ&sparams=expire%2Cei%2Cip%2Cid%2Caitags%2Csource%2Crequiressl%2Cxpc%2Cbui%2Cspc%2Cvprv%2Csvpuc%2Cmime%2Cns%2Crqh%2Cgir%2Cclen%2Cdur%2Clmt&sig=AJfQdSswRAIgG6pHrP_Jl76uHWd58Qw4oJAqhSY6Q9raFEJFA6gluugCIC_oThOZBOLVSCz0hnRfxD_4YwWxdUm3O2uF6t_QLPNm&lsparams=mh%2Cmm%2Cmn%2Cms%2Cmv%2Cmvi%2Cpl%2Cinitcwndbps&lsig=AHWaYeowRgIhANQwThWXJWLesNeuqDfE6Ed8crydo7XFUIqA2QO8nO9jAiEAjPEY-CKGDnYv2WePu7rga486nAjODy6VmHJylK451C4%3D'},\n",
       " {'extension': 'mp4',\n",
       "  'video_format': '136 - 1280x720 (720p)',\n",
       "  'url': 'https://rr2---sn-gwpa-qxael.googlevideo.com/videoplayback?expire=1715544182&ei=FsxAZuu7I5q_vcAPwe29wAk&ip=2405%3A201%3A404a%3A4019%3A70ee%3Af9bc%3Ab331%3A5167&id=o-AOlwk-HWhJd5lp1hKkUs9FfSxFWySIjvb1hV_fMPB8jA&itag=136&aitags=134%2C136%2C160&source=youtube&requiressl=yes&xpc=EgVo2aDSNQ%3D%3D&mh=wJ&mm=31%2C29&mn=sn-gwpa-qxael%2Csn-gwpa-qxay&ms=au%2Crdu&mv=m&mvi=2&pl=42&initcwndbps=695000&bui=AWRWj2Rg_ZL6uyzpIMunxYaAEJemm9i7USOCie-X2YCGiebC92wjv1XiJoFNfr1FY79rlNZWN2a7bVcU&spc=UWF9f6gpUuxh4tGvm-1W_bWw7upOcOUnTXQryDlS0o7EZmyYwy8n8-Q&vprv=1&svpuc=1&mime=video%2Fmp4&ns=xB7QQ9GLJbC3VTSR2jBKfcsQ&rqh=1&gir=yes&clen=5745512&dur=187.999&lmt=1677542096512303&mt=1715522214&fvip=1&keepalive=yes&c=WEB&sefc=1&txp=6216224&n=FKxQFXFnyfo2pQ&sparams=expire%2Cei%2Cip%2Cid%2Caitags%2Csource%2Crequiressl%2Cxpc%2Cbui%2Cspc%2Cvprv%2Csvpuc%2Cmime%2Cns%2Crqh%2Cgir%2Cclen%2Cdur%2Clmt&sig=AJfQdSswRQIgQgHTzvHUQ6_6NKOXP5fjqYwueFvkLX4c1VIRIsvQHm8CIQDhm3-23JUqJdJRiYZbHExPLui9gubu7p4AYW-husmZZg%3D%3D&lsparams=mh%2Cmm%2Cmn%2Cms%2Cmv%2Cmvi%2Cpl%2Cinitcwndbps&lsig=AHWaYeowRgIhANQwThWXJWLesNeuqDfE6Ed8crydo7XFUIqA2QO8nO9jAiEAjPEY-CKGDnYv2WePu7rga486nAjODy6VmHJylK451C4%3D'},\n",
       " {'extension': 'mp4',\n",
       "  'video_format': '18 - 640x360 (360p)',\n",
       "  'url': 'https://rr2---sn-gwpa-qxael.googlevideo.com/videoplayback?expire=1715544182&ei=FsxAZuu7I5q_vcAPwe29wAk&ip=2405%3A201%3A404a%3A4019%3A70ee%3Af9bc%3Ab331%3A5167&id=o-AOlwk-HWhJd5lp1hKkUs9FfSxFWySIjvb1hV_fMPB8jA&itag=18&source=youtube&requiressl=yes&xpc=EgVo2aDSNQ%3D%3D&mh=wJ&mm=31%2C29&mn=sn-gwpa-qxael%2Csn-gwpa-qxay&ms=au%2Crdu&mv=m&mvi=2&pl=42&initcwndbps=695000&bui=AWRWj2Spus4sfPYxIonxzmlCsqhjjviZat9saPhJv8g1ZkDX5WTQTEUaCt4ngSwaeRGepc_cfmk7rLgg&spc=UWF9f6gpUuxh4tGvm-1W_bWw7upOcOUnTXQryDlS0o7EZmyYwy8n8-Q&vprv=1&svpuc=1&mime=video%2Fmp4&ns=befFby6_rBVem3YcHco3unkQ&rqh=1&cnr=14&ratebypass=yes&dur=188.058&lmt=1677542099504146&mt=1715522214&fvip=1&c=WEB&sefc=1&txp=6219224&n=KDmxpaae5o7blw&sparams=expire%2Cei%2Cip%2Cid%2Citag%2Csource%2Crequiressl%2Cxpc%2Cbui%2Cspc%2Cvprv%2Csvpuc%2Cmime%2Cns%2Crqh%2Ccnr%2Cratebypass%2Cdur%2Clmt&sig=AJfQdSswRQIgRehK-ZkdJdb91dzji7AWG8e7xLT0Vtt4PnvRFVep-PkCIQC9vEmQK_AvVlkQDq1vEHf1YOBbUmLOvJ5m-Ewp3474_A%3D%3D&lsparams=mh%2Cmm%2Cmn%2Cms%2Cmv%2Cmvi%2Cpl%2Cinitcwndbps&lsig=AHWaYeowRgIhANQwThWXJWLesNeuqDfE6Ed8crydo7XFUIqA2QO8nO9jAiEAjPEY-CKGDnYv2WePu7rga486nAjODy6VmHJylK451C4%3D'},\n",
       " {'extension': 'mp4',\n",
       "  'video_format': '22 - 1280x720 (720p)',\n",
       "  'url': 'https://rr2---sn-gwpa-qxael.googlevideo.com/videoplayback?expire=1715544182&ei=FsxAZuu7I5q_vcAPwe29wAk&ip=2405%3A201%3A404a%3A4019%3A70ee%3Af9bc%3Ab331%3A5167&id=o-AOlwk-HWhJd5lp1hKkUs9FfSxFWySIjvb1hV_fMPB8jA&itag=22&source=youtube&requiressl=yes&xpc=EgVo2aDSNQ%3D%3D&mh=wJ&mm=31%2C29&mn=sn-gwpa-qxael%2Csn-gwpa-qxay&ms=au%2Crdu&mv=m&mvi=2&pl=42&initcwndbps=695000&bui=AWRWj2Spus4sfPYxIonxzmlCsqhjjviZat9saPhJv8g1ZkDX5WTQTEUaCt4ngSwaeRGepc_cfmk7rLgg&spc=UWF9f6gpUuxh4tGvm-1W_bWw7upOcOUnTXQryDlS0o7EZmyYwy8n8-Q&vprv=1&svpuc=1&mime=video%2Fmp4&ns=befFby6_rBVem3YcHco3unkQ&rqh=1&cnr=14&ratebypass=yes&dur=188.058&lmt=1677542098560152&mt=1715522214&fvip=1&c=WEB&sefc=1&txp=6211224&n=KDmxpaae5o7blw&sparams=expire%2Cei%2Cip%2Cid%2Citag%2Csource%2Crequiressl%2Cxpc%2Cbui%2Cspc%2Cvprv%2Csvpuc%2Cmime%2Cns%2Crqh%2Ccnr%2Cratebypass%2Cdur%2Clmt&sig=AJfQdSswRgIhAI4P73tr00I5cyCoODRSTewFNXAu_GSEZinAyIrMvVlDAiEAgbPaonI4EEZk1woePkvNkwOkbsL16elDrsP16pGnxDs%3D&lsparams=mh%2Cmm%2Cmn%2Cms%2Cmv%2Cmvi%2Cpl%2Cinitcwndbps&lsig=AHWaYeowRgIhANQwThWXJWLesNeuqDfE6Ed8crydo7XFUIqA2QO8nO9jAiEAjPEY-CKGDnYv2WePu7rga486nAjODy6VmHJylK451C4%3D'}]"
      ]
     },
     "execution_count": 14,
     "metadata": {},
     "output_type": "execute_result"
    }
   ],
   "source": [
    "all_formats"
   ]
  },
  {
   "cell_type": "code",
   "execution_count": 15,
   "metadata": {},
   "outputs": [],
   "source": [
    "thumbnail = video_data[\"thumbnail\"]"
   ]
  },
  {
   "cell_type": "code",
   "execution_count": 16,
   "metadata": {},
   "outputs": [
    {
     "data": {
      "text/plain": [
       "'https://i.ytimg.com/vi_webp/Tx_4KXbKCTQ/maxresdefault.webp'"
      ]
     },
     "execution_count": 16,
     "metadata": {},
     "output_type": "execute_result"
    }
   ],
   "source": [
    "thumbnail"
   ]
  },
  {
   "cell_type": "code",
   "execution_count": 17,
   "metadata": {},
   "outputs": [],
   "source": [
    "def get_video_data(url):\n",
    "    command = f'youtube-dl \"{url}\" -j'\n",
    "    output = os.popen(command).read()\n",
    "    video_data = json.loads(output)\n",
    "    title = video_data[\"title\"]\n",
    "    formats = video_data[\"formats\"]\n",
    "    all_formats = [extract_formate_data(i) for i in formats]\n",
    "    thumbnail = video_data[\"thumbnail\"]\n",
    "    return {\"title\": title, \"thumbnail\": thumbnail, \"formats\": all_formats}\n"
   ]
  },
  {
   "cell_type": "code",
   "execution_count": 18,
   "metadata": {},
   "outputs": [
    {
     "data": {
      "text/plain": [
       "{'title': 'Anuv Jain - HUSN (Lyrics) [1HOUR]',\n",
       " 'thumbnail': 'https://i.ytimg.com/vi_webp/P838MAC3wJc/maxresdefault.webp',\n",
       " 'formats': [{'extension': 'webm',\n",
       "   'video_format': '249 - audio only (audio_quality_low)',\n",
       "   'url': 'https://rr2---sn-gwpa-qxaee.googlevideo.com/videoplayback?expire=1715544185&ei=GcxAZsT_MKXYvcAP26uH4Ak&ip=2405%3A201%3A404a%3A4019%3A70ee%3Af9bc%3Ab331%3A5167&id=o-AEMPf0Kl5-1v6uYBRNNr_XcweyDeXTlk86W6_A_ZQVz1&itag=249&source=youtube&requiressl=yes&xpc=EgVo2aDSNQ%3D%3D&mh=KD&mm=31%2C29&mn=sn-gwpa-qxaee%2Csn-gwpa-qxae7&ms=au%2Crdu&mv=m&mvi=2&pl=42&gcr=in&initcwndbps=716250&bui=AWRWj2RYVeA-GYQPmOqfobrZ2HGr4wbGa6cqkMV5xEtHwbstQ1dNsf-VM4moewVBM6iFMQ47KfTeQLfV&spc=UWF9f9EZOJ6OU-vknlfxU5LwM3ysmhf6gtiWpapuurnd6Pvwae3XNAI&vprv=1&svpuc=1&mime=audio%2Fwebm&ns=Z5NCmPo1Sa9hEms0uOpv6foQ&rqh=1&gir=yes&clen=23911521&dur=3690.541&lmt=1715440731543921&mt=1715522214&fvip=5&keepalive=yes&c=WEB&sefc=1&txp=3308224&n=5TTHyn_GjDwjRg&sparams=expire%2Cei%2Cip%2Cid%2Citag%2Csource%2Crequiressl%2Cxpc%2Cgcr%2Cbui%2Cspc%2Cvprv%2Csvpuc%2Cmime%2Cns%2Crqh%2Cgir%2Cclen%2Cdur%2Clmt&lsparams=mh%2Cmm%2Cmn%2Cms%2Cmv%2Cmvi%2Cpl%2Cinitcwndbps&lsig=AHWaYeowRAIgM6srvXDkblw6HI-LtHd6TTbw4TcxaU68C6ns5AtAf08CIG11FTNwJtPT8YE6ZUSHqGU7O9DOcK7ZLrujvY1VhM8U&sig=AJfQdSswRQIgc9puG78e8QdKOetVASngcasZhbioKfTg-vqNIn9F4ewCIQCQPoeRad3RXXeGOAtfzH_KJ-JeuXk5BUoS1zEQ_ZyjiA%3D%3D'},\n",
       "  {'extension': 'webm',\n",
       "   'video_format': '250 - audio only (audio_quality_low)',\n",
       "   'url': 'https://rr2---sn-gwpa-qxaee.googlevideo.com/videoplayback?expire=1715544185&ei=GcxAZsT_MKXYvcAP26uH4Ak&ip=2405%3A201%3A404a%3A4019%3A70ee%3Af9bc%3Ab331%3A5167&id=o-AEMPf0Kl5-1v6uYBRNNr_XcweyDeXTlk86W6_A_ZQVz1&itag=250&source=youtube&requiressl=yes&xpc=EgVo2aDSNQ%3D%3D&mh=KD&mm=31%2C29&mn=sn-gwpa-qxaee%2Csn-gwpa-qxae7&ms=au%2Crdu&mv=m&mvi=2&pl=42&gcr=in&initcwndbps=716250&bui=AWRWj2RYVeA-GYQPmOqfobrZ2HGr4wbGa6cqkMV5xEtHwbstQ1dNsf-VM4moewVBM6iFMQ47KfTeQLfV&spc=UWF9f9EZOJ6OU-vknlfxU5LwM3ysmhf6gtiWpapuurnd6Pvwae3XNAI&vprv=1&svpuc=1&mime=audio%2Fwebm&ns=Z5NCmPo1Sa9hEms0uOpv6foQ&rqh=1&gir=yes&clen=31605192&dur=3690.541&lmt=1715440731585189&mt=1715522214&fvip=5&keepalive=yes&c=WEB&sefc=1&txp=3308224&n=5TTHyn_GjDwjRg&sparams=expire%2Cei%2Cip%2Cid%2Citag%2Csource%2Crequiressl%2Cxpc%2Cgcr%2Cbui%2Cspc%2Cvprv%2Csvpuc%2Cmime%2Cns%2Crqh%2Cgir%2Cclen%2Cdur%2Clmt&lsparams=mh%2Cmm%2Cmn%2Cms%2Cmv%2Cmvi%2Cpl%2Cinitcwndbps&lsig=AHWaYeowRAIgM6srvXDkblw6HI-LtHd6TTbw4TcxaU68C6ns5AtAf08CIG11FTNwJtPT8YE6ZUSHqGU7O9DOcK7ZLrujvY1VhM8U&sig=AJfQdSswRQIgaLaVXClIaAUdYrHZViaZBZFCVQmHwkYPp41AdKsGZ2cCIQD25aBNJs_hBHvwlD-QXv63XL6CGIAOdOaYBLyr0lK0QQ%3D%3D'},\n",
       "  {'extension': 'm4a',\n",
       "   'video_format': '140 - audio only (audio_quality_medium)',\n",
       "   'url': 'https://rr2---sn-gwpa-qxaee.googlevideo.com/videoplayback?expire=1715544185&ei=GcxAZsT_MKXYvcAP26uH4Ak&ip=2405%3A201%3A404a%3A4019%3A70ee%3Af9bc%3Ab331%3A5167&id=o-AEMPf0Kl5-1v6uYBRNNr_XcweyDeXTlk86W6_A_ZQVz1&itag=140&source=youtube&requiressl=yes&xpc=EgVo2aDSNQ%3D%3D&mh=KD&mm=31%2C29&mn=sn-gwpa-qxaee%2Csn-gwpa-qxae7&ms=au%2Crdu&mv=m&mvi=2&pl=42&gcr=in&initcwndbps=716250&bui=AWRWj2RYVeA-GYQPmOqfobrZ2HGr4wbGa6cqkMV5xEtHwbstQ1dNsf-VM4moewVBM6iFMQ47KfTeQLfV&spc=UWF9f9EZOJ6OU-vknlfxU5LwM3ysmhf6gtiWpapuurnd6Pvwae3XNAI&vprv=1&svpuc=1&mime=audio%2Fmp4&ns=Z5NCmPo1Sa9hEms0uOpv6foQ&rqh=1&gir=yes&clen=59728760&dur=3690.556&lmt=1715440579051368&mt=1715522214&fvip=5&keepalive=yes&c=WEB&sefc=1&txp=3308224&n=5TTHyn_GjDwjRg&sparams=expire%2Cei%2Cip%2Cid%2Citag%2Csource%2Crequiressl%2Cxpc%2Cgcr%2Cbui%2Cspc%2Cvprv%2Csvpuc%2Cmime%2Cns%2Crqh%2Cgir%2Cclen%2Cdur%2Clmt&lsparams=mh%2Cmm%2Cmn%2Cms%2Cmv%2Cmvi%2Cpl%2Cinitcwndbps&lsig=AHWaYeowRAIgM6srvXDkblw6HI-LtHd6TTbw4TcxaU68C6ns5AtAf08CIG11FTNwJtPT8YE6ZUSHqGU7O9DOcK7ZLrujvY1VhM8U&sig=AJfQdSswRAIgT0p3mM9-y8dwuhjuLu4zWTKtfqw1vmRf3v55rBsYZe8CIADX8bDEW9NtQrytbpn4Xa1rDx2L8Pkbe3oi1XAEYSIh'},\n",
       "  {'extension': 'webm',\n",
       "   'video_format': '251 - audio only (audio_quality_medium)',\n",
       "   'url': 'https://rr2---sn-gwpa-qxaee.googlevideo.com/videoplayback?expire=1715544185&ei=GcxAZsT_MKXYvcAP26uH4Ak&ip=2405%3A201%3A404a%3A4019%3A70ee%3Af9bc%3Ab331%3A5167&id=o-AEMPf0Kl5-1v6uYBRNNr_XcweyDeXTlk86W6_A_ZQVz1&itag=251&source=youtube&requiressl=yes&xpc=EgVo2aDSNQ%3D%3D&mh=KD&mm=31%2C29&mn=sn-gwpa-qxaee%2Csn-gwpa-qxae7&ms=au%2Crdu&mv=m&mvi=2&pl=42&gcr=in&initcwndbps=716250&bui=AWRWj2RYVeA-GYQPmOqfobrZ2HGr4wbGa6cqkMV5xEtHwbstQ1dNsf-VM4moewVBM6iFMQ47KfTeQLfV&spc=UWF9f9EZOJ6OU-vknlfxU5LwM3ysmhf6gtiWpapuurnd6Pvwae3XNAI&vprv=1&svpuc=1&mime=audio%2Fwebm&ns=Z5NCmPo1Sa9hEms0uOpv6foQ&rqh=1&gir=yes&clen=61578613&dur=3690.541&lmt=1715440731543017&mt=1715522214&fvip=5&keepalive=yes&c=WEB&sefc=1&txp=3308224&n=5TTHyn_GjDwjRg&sparams=expire%2Cei%2Cip%2Cid%2Citag%2Csource%2Crequiressl%2Cxpc%2Cgcr%2Cbui%2Cspc%2Cvprv%2Csvpuc%2Cmime%2Cns%2Crqh%2Cgir%2Cclen%2Cdur%2Clmt&lsparams=mh%2Cmm%2Cmn%2Cms%2Cmv%2Cmvi%2Cpl%2Cinitcwndbps&lsig=AHWaYeowRAIgM6srvXDkblw6HI-LtHd6TTbw4TcxaU68C6ns5AtAf08CIG11FTNwJtPT8YE6ZUSHqGU7O9DOcK7ZLrujvY1VhM8U&sig=AJfQdSswRQIhAOkA-RtgmPRPjP46d8u_JTcAVcIYG3rmoBCLPZpLvhlRAiB90Zc1sWJ4QCtFlBNLp0lT-EaxsNrJHN_BAWp23FbZwQ%3D%3D'},\n",
       "  {'extension': 'webm',\n",
       "   'video_format': '278 - 256x144 (144p)',\n",
       "   'url': 'https://rr2---sn-gwpa-qxaee.googlevideo.com/videoplayback?expire=1715544185&ei=GcxAZsT_MKXYvcAP26uH4Ak&ip=2405%3A201%3A404a%3A4019%3A70ee%3Af9bc%3Ab331%3A5167&id=o-AEMPf0Kl5-1v6uYBRNNr_XcweyDeXTlk86W6_A_ZQVz1&itag=278&aitags=133%2C134%2C135%2C136%2C160%2C242%2C243%2C244%2C247%2C278%2C298%2C299%2C302%2C303&source=youtube&requiressl=yes&xpc=EgVo2aDSNQ%3D%3D&mh=KD&mm=31%2C29&mn=sn-gwpa-qxaee%2Csn-gwpa-qxae7&ms=au%2Crdu&mv=m&mvi=2&pl=42&gcr=in&initcwndbps=716250&bui=AWRWj2RYVeA-GYQPmOqfobrZ2HGr4wbGa6cqkMV5xEtHwbstQ1dNsf-VM4moewVBM6iFMQ47KfTeQLfV&spc=UWF9f9EZOJ6OU-vknlfxU5LwM3ysmhf6gtiWpapuurnd6Pvwae3XNAI&vprv=1&svpuc=1&mime=video%2Fwebm&ns=Z5NCmPo1Sa9hEms0uOpv6foQ&rqh=1&gir=yes&clen=13736864&dur=3690.500&lmt=1715440466463115&mt=1715522214&fvip=5&keepalive=yes&c=WEB&sefc=1&txp=330F224&n=5TTHyn_GjDwjRg&sparams=expire%2Cei%2Cip%2Cid%2Caitags%2Csource%2Crequiressl%2Cxpc%2Cgcr%2Cbui%2Cspc%2Cvprv%2Csvpuc%2Cmime%2Cns%2Crqh%2Cgir%2Cclen%2Cdur%2Clmt&lsparams=mh%2Cmm%2Cmn%2Cms%2Cmv%2Cmvi%2Cpl%2Cinitcwndbps&lsig=AHWaYeowRAIgM6srvXDkblw6HI-LtHd6TTbw4TcxaU68C6ns5AtAf08CIG11FTNwJtPT8YE6ZUSHqGU7O9DOcK7ZLrujvY1VhM8U&sig=AJfQdSswRAIgSiX6rrx8Jqfts2Q1wI-7RAvKC9CMLJQZaDzLPjhENZACIELl7UkacE6GkOasPoyIc2YdwlBYeilVaJeYGB7lqm5p'},\n",
       "  {'extension': 'mp4',\n",
       "   'video_format': '160 - 256x144 (144p)',\n",
       "   'url': 'https://rr2---sn-gwpa-qxaee.googlevideo.com/videoplayback?expire=1715544185&ei=GcxAZsT_MKXYvcAP26uH4Ak&ip=2405%3A201%3A404a%3A4019%3A70ee%3Af9bc%3Ab331%3A5167&id=o-AEMPf0Kl5-1v6uYBRNNr_XcweyDeXTlk86W6_A_ZQVz1&itag=160&aitags=133%2C134%2C135%2C136%2C160%2C242%2C243%2C244%2C247%2C278%2C298%2C299%2C302%2C303&source=youtube&requiressl=yes&xpc=EgVo2aDSNQ%3D%3D&mh=KD&mm=31%2C29&mn=sn-gwpa-qxaee%2Csn-gwpa-qxae7&ms=au%2Crdu&mv=m&mvi=2&pl=42&gcr=in&initcwndbps=716250&bui=AWRWj2RYVeA-GYQPmOqfobrZ2HGr4wbGa6cqkMV5xEtHwbstQ1dNsf-VM4moewVBM6iFMQ47KfTeQLfV&spc=UWF9f9EZOJ6OU-vknlfxU5LwM3ysmhf6gtiWpapuurnd6Pvwae3XNAI&vprv=1&svpuc=1&mime=video%2Fmp4&ns=Z5NCmPo1Sa9hEms0uOpv6foQ&rqh=1&gir=yes&clen=14505862&dur=3690.500&lmt=1715440619977959&mt=1715522214&fvip=5&keepalive=yes&c=WEB&sefc=1&txp=3309224&n=5TTHyn_GjDwjRg&sparams=expire%2Cei%2Cip%2Cid%2Caitags%2Csource%2Crequiressl%2Cxpc%2Cgcr%2Cbui%2Cspc%2Cvprv%2Csvpuc%2Cmime%2Cns%2Crqh%2Cgir%2Cclen%2Cdur%2Clmt&lsparams=mh%2Cmm%2Cmn%2Cms%2Cmv%2Cmvi%2Cpl%2Cinitcwndbps&lsig=AHWaYeowRAIgM6srvXDkblw6HI-LtHd6TTbw4TcxaU68C6ns5AtAf08CIG11FTNwJtPT8YE6ZUSHqGU7O9DOcK7ZLrujvY1VhM8U&sig=AJfQdSswRAIgVdttMkrZdF3PKAoa1fgs9s9ZJubo8prJVmJJazlgiVkCIHoExOwEYxsLCBJSOLsPwrgS9tvqZYU5xenlgRfX8e1-'},\n",
       "  {'extension': 'webm',\n",
       "   'video_format': '242 - 426x240 (240p)',\n",
       "   'url': 'https://rr2---sn-gwpa-qxaee.googlevideo.com/videoplayback?expire=1715544185&ei=GcxAZsT_MKXYvcAP26uH4Ak&ip=2405%3A201%3A404a%3A4019%3A70ee%3Af9bc%3Ab331%3A5167&id=o-AEMPf0Kl5-1v6uYBRNNr_XcweyDeXTlk86W6_A_ZQVz1&itag=242&aitags=133%2C134%2C135%2C136%2C160%2C242%2C243%2C244%2C247%2C278%2C298%2C299%2C302%2C303&source=youtube&requiressl=yes&xpc=EgVo2aDSNQ%3D%3D&mh=KD&mm=31%2C29&mn=sn-gwpa-qxaee%2Csn-gwpa-qxae7&ms=au%2Crdu&mv=m&mvi=2&pl=42&gcr=in&initcwndbps=716250&bui=AWRWj2RYVeA-GYQPmOqfobrZ2HGr4wbGa6cqkMV5xEtHwbstQ1dNsf-VM4moewVBM6iFMQ47KfTeQLfV&spc=UWF9f9EZOJ6OU-vknlfxU5LwM3ysmhf6gtiWpapuurnd6Pvwae3XNAI&vprv=1&svpuc=1&mime=video%2Fwebm&ns=Z5NCmPo1Sa9hEms0uOpv6foQ&rqh=1&gir=yes&clen=18350885&dur=3690.500&lmt=1715440463724652&mt=1715522214&fvip=5&keepalive=yes&c=WEB&sefc=1&txp=330F224&n=5TTHyn_GjDwjRg&sparams=expire%2Cei%2Cip%2Cid%2Caitags%2Csource%2Crequiressl%2Cxpc%2Cgcr%2Cbui%2Cspc%2Cvprv%2Csvpuc%2Cmime%2Cns%2Crqh%2Cgir%2Cclen%2Cdur%2Clmt&lsparams=mh%2Cmm%2Cmn%2Cms%2Cmv%2Cmvi%2Cpl%2Cinitcwndbps&lsig=AHWaYeowRAIgM6srvXDkblw6HI-LtHd6TTbw4TcxaU68C6ns5AtAf08CIG11FTNwJtPT8YE6ZUSHqGU7O9DOcK7ZLrujvY1VhM8U&sig=AJfQdSswRAIgZXfte5RE6BbN_VzWkdUDdIf-bp5BbkuILqdS0WLxHMkCIApQn6ZISehzmALIeMTZ698v4fG8WlIIiY-Kd5u_JzQ_'},\n",
       "  {'extension': 'mp4',\n",
       "   'video_format': '133 - 426x240 (240p)',\n",
       "   'url': 'https://rr2---sn-gwpa-qxaee.googlevideo.com/videoplayback?expire=1715544185&ei=GcxAZsT_MKXYvcAP26uH4Ak&ip=2405%3A201%3A404a%3A4019%3A70ee%3Af9bc%3Ab331%3A5167&id=o-AEMPf0Kl5-1v6uYBRNNr_XcweyDeXTlk86W6_A_ZQVz1&itag=133&aitags=133%2C134%2C135%2C136%2C160%2C242%2C243%2C244%2C247%2C278%2C298%2C299%2C302%2C303&source=youtube&requiressl=yes&xpc=EgVo2aDSNQ%3D%3D&mh=KD&mm=31%2C29&mn=sn-gwpa-qxaee%2Csn-gwpa-qxae7&ms=au%2Crdu&mv=m&mvi=2&pl=42&gcr=in&initcwndbps=716250&bui=AWRWj2RYVeA-GYQPmOqfobrZ2HGr4wbGa6cqkMV5xEtHwbstQ1dNsf-VM4moewVBM6iFMQ47KfTeQLfV&spc=UWF9f9EZOJ6OU-vknlfxU5LwM3ysmhf6gtiWpapuurnd6Pvwae3XNAI&vprv=1&svpuc=1&mime=video%2Fmp4&ns=Z5NCmPo1Sa9hEms0uOpv6foQ&rqh=1&gir=yes&clen=24876201&dur=3690.500&lmt=1715440443977927&mt=1715522214&fvip=5&keepalive=yes&c=WEB&sefc=1&txp=3309224&n=5TTHyn_GjDwjRg&sparams=expire%2Cei%2Cip%2Cid%2Caitags%2Csource%2Crequiressl%2Cxpc%2Cgcr%2Cbui%2Cspc%2Cvprv%2Csvpuc%2Cmime%2Cns%2Crqh%2Cgir%2Cclen%2Cdur%2Clmt&lsparams=mh%2Cmm%2Cmn%2Cms%2Cmv%2Cmvi%2Cpl%2Cinitcwndbps&lsig=AHWaYeowRAIgM6srvXDkblw6HI-LtHd6TTbw4TcxaU68C6ns5AtAf08CIG11FTNwJtPT8YE6ZUSHqGU7O9DOcK7ZLrujvY1VhM8U&sig=AJfQdSswRQIgBredKpXvUl0sTBloSjXQZY3mr-DRrQcugvJhHqo4LAMCIQDolAIF0TonimQFK6_Q-fvtyEXVWydDsouY4Xer9pHZjQ%3D%3D'},\n",
       "  {'extension': 'webm',\n",
       "   'video_format': '243 - 640x360 (360p)',\n",
       "   'url': 'https://rr2---sn-gwpa-qxaee.googlevideo.com/videoplayback?expire=1715544185&ei=GcxAZsT_MKXYvcAP26uH4Ak&ip=2405%3A201%3A404a%3A4019%3A70ee%3Af9bc%3Ab331%3A5167&id=o-AEMPf0Kl5-1v6uYBRNNr_XcweyDeXTlk86W6_A_ZQVz1&itag=243&aitags=133%2C134%2C135%2C136%2C160%2C242%2C243%2C244%2C247%2C278%2C298%2C299%2C302%2C303&source=youtube&requiressl=yes&xpc=EgVo2aDSNQ%3D%3D&mh=KD&mm=31%2C29&mn=sn-gwpa-qxaee%2Csn-gwpa-qxae7&ms=au%2Crdu&mv=m&mvi=2&pl=42&gcr=in&initcwndbps=716250&bui=AWRWj2RYVeA-GYQPmOqfobrZ2HGr4wbGa6cqkMV5xEtHwbstQ1dNsf-VM4moewVBM6iFMQ47KfTeQLfV&spc=UWF9f9EZOJ6OU-vknlfxU5LwM3ysmhf6gtiWpapuurnd6Pvwae3XNAI&vprv=1&svpuc=1&mime=video%2Fwebm&ns=Z5NCmPo1Sa9hEms0uOpv6foQ&rqh=1&gir=yes&clen=32678941&dur=3690.500&lmt=1715440496838669&mt=1715522214&fvip=5&keepalive=yes&c=WEB&sefc=1&txp=330F224&n=5TTHyn_GjDwjRg&sparams=expire%2Cei%2Cip%2Cid%2Caitags%2Csource%2Crequiressl%2Cxpc%2Cgcr%2Cbui%2Cspc%2Cvprv%2Csvpuc%2Cmime%2Cns%2Crqh%2Cgir%2Cclen%2Cdur%2Clmt&lsparams=mh%2Cmm%2Cmn%2Cms%2Cmv%2Cmvi%2Cpl%2Cinitcwndbps&lsig=AHWaYeowRAIgM6srvXDkblw6HI-LtHd6TTbw4TcxaU68C6ns5AtAf08CIG11FTNwJtPT8YE6ZUSHqGU7O9DOcK7ZLrujvY1VhM8U&sig=AJfQdSswRQIhANAI5yHpdhmd_SC5Gn5O3ItZgc8aw95zVEjY74HasjFLAiAPwqNU3CLPET_vWT3-bDlY5l1MgdUbqpkW2dE5WDtk_Q%3D%3D'},\n",
       "  {'extension': 'mp4',\n",
       "   'video_format': '134 - 640x360 (360p)',\n",
       "   'url': 'https://rr2---sn-gwpa-qxaee.googlevideo.com/videoplayback?expire=1715544185&ei=GcxAZsT_MKXYvcAP26uH4Ak&ip=2405%3A201%3A404a%3A4019%3A70ee%3Af9bc%3Ab331%3A5167&id=o-AEMPf0Kl5-1v6uYBRNNr_XcweyDeXTlk86W6_A_ZQVz1&itag=134&aitags=133%2C134%2C135%2C136%2C160%2C242%2C243%2C244%2C247%2C278%2C298%2C299%2C302%2C303&source=youtube&requiressl=yes&xpc=EgVo2aDSNQ%3D%3D&mh=KD&mm=31%2C29&mn=sn-gwpa-qxaee%2Csn-gwpa-qxae7&ms=au%2Crdu&mv=m&mvi=2&pl=42&gcr=in&initcwndbps=716250&bui=AWRWj2RYVeA-GYQPmOqfobrZ2HGr4wbGa6cqkMV5xEtHwbstQ1dNsf-VM4moewVBM6iFMQ47KfTeQLfV&spc=UWF9f9EZOJ6OU-vknlfxU5LwM3ysmhf6gtiWpapuurnd6Pvwae3XNAI&vprv=1&svpuc=1&mime=video%2Fmp4&ns=Z5NCmPo1Sa9hEms0uOpv6foQ&rqh=1&gir=yes&clen=36432939&dur=3690.500&lmt=1715440732692815&mt=1715522214&fvip=5&keepalive=yes&c=WEB&sefc=1&txp=3309224&n=5TTHyn_GjDwjRg&sparams=expire%2Cei%2Cip%2Cid%2Caitags%2Csource%2Crequiressl%2Cxpc%2Cgcr%2Cbui%2Cspc%2Cvprv%2Csvpuc%2Cmime%2Cns%2Crqh%2Cgir%2Cclen%2Cdur%2Clmt&lsparams=mh%2Cmm%2Cmn%2Cms%2Cmv%2Cmvi%2Cpl%2Cinitcwndbps&lsig=AHWaYeowRAIgM6srvXDkblw6HI-LtHd6TTbw4TcxaU68C6ns5AtAf08CIG11FTNwJtPT8YE6ZUSHqGU7O9DOcK7ZLrujvY1VhM8U&sig=AJfQdSswRQIhAKnVuUYXRI0V4ljwu7R31Re_sBFkuQawE964QgSX0QjGAiBtUn1rLfGfkr_qNr3JAiSYSFhLDdzutEDxaFRJeqC4QQ%3D%3D'},\n",
       "  {'extension': 'webm',\n",
       "   'video_format': '244 - 854x480 (480p)',\n",
       "   'url': 'https://rr2---sn-gwpa-qxaee.googlevideo.com/videoplayback?expire=1715544185&ei=GcxAZsT_MKXYvcAP26uH4Ak&ip=2405%3A201%3A404a%3A4019%3A70ee%3Af9bc%3Ab331%3A5167&id=o-AEMPf0Kl5-1v6uYBRNNr_XcweyDeXTlk86W6_A_ZQVz1&itag=244&aitags=133%2C134%2C135%2C136%2C160%2C242%2C243%2C244%2C247%2C278%2C298%2C299%2C302%2C303&source=youtube&requiressl=yes&xpc=EgVo2aDSNQ%3D%3D&mh=KD&mm=31%2C29&mn=sn-gwpa-qxaee%2Csn-gwpa-qxae7&ms=au%2Crdu&mv=m&mvi=2&pl=42&gcr=in&initcwndbps=716250&bui=AWRWj2RYVeA-GYQPmOqfobrZ2HGr4wbGa6cqkMV5xEtHwbstQ1dNsf-VM4moewVBM6iFMQ47KfTeQLfV&spc=UWF9f9EZOJ6OU-vknlfxU5LwM3ysmhf6gtiWpapuurnd6Pvwae3XNAI&vprv=1&svpuc=1&mime=video%2Fwebm&ns=Z5NCmPo1Sa9hEms0uOpv6foQ&rqh=1&gir=yes&clen=46010405&dur=3690.500&lmt=1715440465872747&mt=1715522214&fvip=5&keepalive=yes&c=WEB&sefc=1&txp=330F224&n=5TTHyn_GjDwjRg&sparams=expire%2Cei%2Cip%2Cid%2Caitags%2Csource%2Crequiressl%2Cxpc%2Cgcr%2Cbui%2Cspc%2Cvprv%2Csvpuc%2Cmime%2Cns%2Crqh%2Cgir%2Cclen%2Cdur%2Clmt&lsparams=mh%2Cmm%2Cmn%2Cms%2Cmv%2Cmvi%2Cpl%2Cinitcwndbps&lsig=AHWaYeowRAIgM6srvXDkblw6HI-LtHd6TTbw4TcxaU68C6ns5AtAf08CIG11FTNwJtPT8YE6ZUSHqGU7O9DOcK7ZLrujvY1VhM8U&sig=AJfQdSswRQIhAOOAqfvDZKCXEbw61_D-2QNa-wcbZFeN4ML7wgr2EaO8AiAV02lqe6pXUlueytmBh_NT_jnW7mREpE5NnIoz_qxlUQ%3D%3D'},\n",
       "  {'extension': 'mp4',\n",
       "   'video_format': '135 - 854x480 (480p)',\n",
       "   'url': 'https://rr2---sn-gwpa-qxaee.googlevideo.com/videoplayback?expire=1715544185&ei=GcxAZsT_MKXYvcAP26uH4Ak&ip=2405%3A201%3A404a%3A4019%3A70ee%3Af9bc%3Ab331%3A5167&id=o-AEMPf0Kl5-1v6uYBRNNr_XcweyDeXTlk86W6_A_ZQVz1&itag=135&aitags=133%2C134%2C135%2C136%2C160%2C242%2C243%2C244%2C247%2C278%2C298%2C299%2C302%2C303&source=youtube&requiressl=yes&xpc=EgVo2aDSNQ%3D%3D&mh=KD&mm=31%2C29&mn=sn-gwpa-qxaee%2Csn-gwpa-qxae7&ms=au%2Crdu&mv=m&mvi=2&pl=42&gcr=in&initcwndbps=716250&bui=AWRWj2RYVeA-GYQPmOqfobrZ2HGr4wbGa6cqkMV5xEtHwbstQ1dNsf-VM4moewVBM6iFMQ47KfTeQLfV&spc=UWF9f9EZOJ6OU-vknlfxU5LwM3ysmhf6gtiWpapuurnd6Pvwae3XNAI&vprv=1&svpuc=1&mime=video%2Fmp4&ns=Z5NCmPo1Sa9hEms0uOpv6foQ&rqh=1&gir=yes&clen=50297093&dur=3690.500&lmt=1715440430305598&mt=1715522214&fvip=5&keepalive=yes&c=WEB&sefc=1&txp=3309224&n=5TTHyn_GjDwjRg&sparams=expire%2Cei%2Cip%2Cid%2Caitags%2Csource%2Crequiressl%2Cxpc%2Cgcr%2Cbui%2Cspc%2Cvprv%2Csvpuc%2Cmime%2Cns%2Crqh%2Cgir%2Cclen%2Cdur%2Clmt&lsparams=mh%2Cmm%2Cmn%2Cms%2Cmv%2Cmvi%2Cpl%2Cinitcwndbps&lsig=AHWaYeowRAIgM6srvXDkblw6HI-LtHd6TTbw4TcxaU68C6ns5AtAf08CIG11FTNwJtPT8YE6ZUSHqGU7O9DOcK7ZLrujvY1VhM8U&sig=AJfQdSswRQIgKCX_pFnD0I9x_FS1c86OCTF_j2MElFgRYetL95n4nNcCIQCVb1DrTJhngBQX8iHLaPkv_GP6Ttt4QuyywrHrMFPF8A%3D%3D'},\n",
       "  {'extension': 'webm',\n",
       "   'video_format': '302 - 1280x720 (720p60)',\n",
       "   'url': 'https://rr2---sn-gwpa-qxaee.googlevideo.com/videoplayback?expire=1715544185&ei=GcxAZsT_MKXYvcAP26uH4Ak&ip=2405%3A201%3A404a%3A4019%3A70ee%3Af9bc%3Ab331%3A5167&id=o-AEMPf0Kl5-1v6uYBRNNr_XcweyDeXTlk86W6_A_ZQVz1&itag=302&aitags=133%2C134%2C135%2C136%2C160%2C242%2C243%2C244%2C247%2C278%2C298%2C299%2C302%2C303&source=youtube&requiressl=yes&xpc=EgVo2aDSNQ%3D%3D&mh=KD&mm=31%2C29&mn=sn-gwpa-qxaee%2Csn-gwpa-qxae7&ms=au%2Crdu&mv=m&mvi=2&pl=42&gcr=in&initcwndbps=716250&bui=AWRWj2RYVeA-GYQPmOqfobrZ2HGr4wbGa6cqkMV5xEtHwbstQ1dNsf-VM4moewVBM6iFMQ47KfTeQLfV&spc=UWF9f9EZOJ6OU-vknlfxU5LwM3ysmhf6gtiWpapuurnd6Pvwae3XNAI&vprv=1&svpuc=1&mime=video%2Fwebm&ns=Z5NCmPo1Sa9hEms0uOpv6foQ&rqh=1&gir=yes&clen=70332677&dur=3690.499&lmt=1715440451999086&mt=1715522214&fvip=5&keepalive=yes&c=WEB&sefc=1&txp=330F224&n=5TTHyn_GjDwjRg&sparams=expire%2Cei%2Cip%2Cid%2Caitags%2Csource%2Crequiressl%2Cxpc%2Cgcr%2Cbui%2Cspc%2Cvprv%2Csvpuc%2Cmime%2Cns%2Crqh%2Cgir%2Cclen%2Cdur%2Clmt&lsparams=mh%2Cmm%2Cmn%2Cms%2Cmv%2Cmvi%2Cpl%2Cinitcwndbps&lsig=AHWaYeowRAIgM6srvXDkblw6HI-LtHd6TTbw4TcxaU68C6ns5AtAf08CIG11FTNwJtPT8YE6ZUSHqGU7O9DOcK7ZLrujvY1VhM8U&sig=AJfQdSswRQIgZ1Mh2eZg2QOpWa7_YdT2MRcWJ8erOrJlP0MnzJFcitcCIQCT_thOqnPd3ilofl1bhkkzkLlEfu_GKFroRGAHMaGbUQ%3D%3D'},\n",
       "  {'extension': 'mp4',\n",
       "   'video_format': '136 - 1280x720 (720p)',\n",
       "   'url': 'https://rr2---sn-gwpa-qxaee.googlevideo.com/videoplayback?expire=1715544185&ei=GcxAZsT_MKXYvcAP26uH4Ak&ip=2405%3A201%3A404a%3A4019%3A70ee%3Af9bc%3Ab331%3A5167&id=o-AEMPf0Kl5-1v6uYBRNNr_XcweyDeXTlk86W6_A_ZQVz1&itag=136&aitags=133%2C134%2C135%2C136%2C160%2C242%2C243%2C244%2C247%2C278%2C298%2C299%2C302%2C303&source=youtube&requiressl=yes&xpc=EgVo2aDSNQ%3D%3D&mh=KD&mm=31%2C29&mn=sn-gwpa-qxaee%2Csn-gwpa-qxae7&ms=au%2Crdu&mv=m&mvi=2&pl=42&gcr=in&initcwndbps=716250&bui=AWRWj2RYVeA-GYQPmOqfobrZ2HGr4wbGa6cqkMV5xEtHwbstQ1dNsf-VM4moewVBM6iFMQ47KfTeQLfV&spc=UWF9f9EZOJ6OU-vknlfxU5LwM3ysmhf6gtiWpapuurnd6Pvwae3XNAI&vprv=1&svpuc=1&mime=video%2Fmp4&ns=Z5NCmPo1Sa9hEms0uOpv6foQ&rqh=1&gir=yes&clen=77892865&dur=3690.500&lmt=1715440457588804&mt=1715522214&fvip=5&keepalive=yes&c=WEB&sefc=1&txp=3309224&n=5TTHyn_GjDwjRg&sparams=expire%2Cei%2Cip%2Cid%2Caitags%2Csource%2Crequiressl%2Cxpc%2Cgcr%2Cbui%2Cspc%2Cvprv%2Csvpuc%2Cmime%2Cns%2Crqh%2Cgir%2Cclen%2Cdur%2Clmt&lsparams=mh%2Cmm%2Cmn%2Cms%2Cmv%2Cmvi%2Cpl%2Cinitcwndbps&lsig=AHWaYeowRAIgM6srvXDkblw6HI-LtHd6TTbw4TcxaU68C6ns5AtAf08CIG11FTNwJtPT8YE6ZUSHqGU7O9DOcK7ZLrujvY1VhM8U&sig=AJfQdSswRQIgUlgXu7WV0NrhYSe3oQU9rTSvqk96Hmk9ach1ElAiS48CIQDhHqRURISMDulcOuPH1VnTTLt8L5aTkWtW1w7JeEliDw%3D%3D'},\n",
       "  {'extension': 'webm',\n",
       "   'video_format': '247 - 1280x720 (720p)',\n",
       "   'url': 'https://rr2---sn-gwpa-qxaee.googlevideo.com/videoplayback?expire=1715544185&ei=GcxAZsT_MKXYvcAP26uH4Ak&ip=2405%3A201%3A404a%3A4019%3A70ee%3Af9bc%3Ab331%3A5167&id=o-AEMPf0Kl5-1v6uYBRNNr_XcweyDeXTlk86W6_A_ZQVz1&itag=247&aitags=133%2C134%2C135%2C136%2C160%2C242%2C243%2C244%2C247%2C278%2C298%2C299%2C302%2C303&source=youtube&requiressl=yes&xpc=EgVo2aDSNQ%3D%3D&mh=KD&mm=31%2C29&mn=sn-gwpa-qxaee%2Csn-gwpa-qxae7&ms=au%2Crdu&mv=m&mvi=2&pl=42&gcr=in&initcwndbps=716250&bui=AWRWj2RYVeA-GYQPmOqfobrZ2HGr4wbGa6cqkMV5xEtHwbstQ1dNsf-VM4moewVBM6iFMQ47KfTeQLfV&spc=UWF9f9EZOJ6OU-vknlfxU5LwM3ysmhf6gtiWpapuurnd6Pvwae3XNAI&vprv=1&svpuc=1&mime=video%2Fwebm&ns=Z5NCmPo1Sa9hEms0uOpv6foQ&rqh=1&gir=yes&clen=79500761&dur=3690.500&lmt=1715440465949643&mt=1715522214&fvip=5&keepalive=yes&c=WEB&sefc=1&txp=330F224&n=5TTHyn_GjDwjRg&sparams=expire%2Cei%2Cip%2Cid%2Caitags%2Csource%2Crequiressl%2Cxpc%2Cgcr%2Cbui%2Cspc%2Cvprv%2Csvpuc%2Cmime%2Cns%2Crqh%2Cgir%2Cclen%2Cdur%2Clmt&lsparams=mh%2Cmm%2Cmn%2Cms%2Cmv%2Cmvi%2Cpl%2Cinitcwndbps&lsig=AHWaYeowRAIgM6srvXDkblw6HI-LtHd6TTbw4TcxaU68C6ns5AtAf08CIG11FTNwJtPT8YE6ZUSHqGU7O9DOcK7ZLrujvY1VhM8U&sig=AJfQdSswRgIhAP-dYqKoNfE_UMYqvE1FIjhr8M6ua40TWLvQ5BKSkZ-LAiEAkiIS06WzWNEp9VGvXOL-VHMgPeGGyrOyP71hYOtJqJI%3D'},\n",
       "  {'extension': 'mp4',\n",
       "   'video_format': '298 - 1280x720 (720p60)',\n",
       "   'url': 'https://rr2---sn-gwpa-qxaee.googlevideo.com/videoplayback?expire=1715544185&ei=GcxAZsT_MKXYvcAP26uH4Ak&ip=2405%3A201%3A404a%3A4019%3A70ee%3Af9bc%3Ab331%3A5167&id=o-AEMPf0Kl5-1v6uYBRNNr_XcweyDeXTlk86W6_A_ZQVz1&itag=298&aitags=133%2C134%2C135%2C136%2C160%2C242%2C243%2C244%2C247%2C278%2C298%2C299%2C302%2C303&source=youtube&requiressl=yes&xpc=EgVo2aDSNQ%3D%3D&mh=KD&mm=31%2C29&mn=sn-gwpa-qxaee%2Csn-gwpa-qxae7&ms=au%2Crdu&mv=m&mvi=2&pl=42&gcr=in&initcwndbps=716250&bui=AWRWj2RYVeA-GYQPmOqfobrZ2HGr4wbGa6cqkMV5xEtHwbstQ1dNsf-VM4moewVBM6iFMQ47KfTeQLfV&spc=UWF9f9EZOJ6OU-vknlfxU5LwM3ysmhf6gtiWpapuurnd6Pvwae3XNAI&vprv=1&svpuc=1&mime=video%2Fmp4&ns=Z5NCmPo1Sa9hEms0uOpv6foQ&rqh=1&gir=yes&clen=90888244&dur=3690.500&lmt=1715440434205077&mt=1715522214&fvip=5&keepalive=yes&c=WEB&sefc=1&txp=3309224&n=5TTHyn_GjDwjRg&sparams=expire%2Cei%2Cip%2Cid%2Caitags%2Csource%2Crequiressl%2Cxpc%2Cgcr%2Cbui%2Cspc%2Cvprv%2Csvpuc%2Cmime%2Cns%2Crqh%2Cgir%2Cclen%2Cdur%2Clmt&lsparams=mh%2Cmm%2Cmn%2Cms%2Cmv%2Cmvi%2Cpl%2Cinitcwndbps&lsig=AHWaYeowRAIgM6srvXDkblw6HI-LtHd6TTbw4TcxaU68C6ns5AtAf08CIG11FTNwJtPT8YE6ZUSHqGU7O9DOcK7ZLrujvY1VhM8U&sig=AJfQdSswRQIhAKVluFFE6mGqrO2MKpDTaD5Qv1zIwTe5W-Dfv-xI-U_-AiAiuzl9v7qYhrC_lr8AThZrQc1rQNMHPtyvn5thGt8VtQ%3D%3D'},\n",
       "  {'extension': 'webm',\n",
       "   'video_format': '303 - 1920x1080 (1080p60)',\n",
       "   'url': 'https://rr2---sn-gwpa-qxaee.googlevideo.com/videoplayback?expire=1715544185&ei=GcxAZsT_MKXYvcAP26uH4Ak&ip=2405%3A201%3A404a%3A4019%3A70ee%3Af9bc%3Ab331%3A5167&id=o-AEMPf0Kl5-1v6uYBRNNr_XcweyDeXTlk86W6_A_ZQVz1&itag=303&aitags=133%2C134%2C135%2C136%2C160%2C242%2C243%2C244%2C247%2C278%2C298%2C299%2C302%2C303&source=youtube&requiressl=yes&xpc=EgVo2aDSNQ%3D%3D&mh=KD&mm=31%2C29&mn=sn-gwpa-qxaee%2Csn-gwpa-qxae7&ms=au%2Crdu&mv=m&mvi=2&pl=42&gcr=in&initcwndbps=716250&bui=AWRWj2RYVeA-GYQPmOqfobrZ2HGr4wbGa6cqkMV5xEtHwbstQ1dNsf-VM4moewVBM6iFMQ47KfTeQLfV&spc=UWF9f9EZOJ6OU-vknlfxU5LwM3ysmhf6gtiWpapuurnd6Pvwae3XNAI&vprv=1&svpuc=1&mime=video%2Fwebm&ns=Z5NCmPo1Sa9hEms0uOpv6foQ&rqh=1&gir=yes&clen=79751915&dur=3690.499&lmt=1715440455571051&mt=1715522214&fvip=5&keepalive=yes&c=WEB&sefc=1&txp=330F224&n=5TTHyn_GjDwjRg&sparams=expire%2Cei%2Cip%2Cid%2Caitags%2Csource%2Crequiressl%2Cxpc%2Cgcr%2Cbui%2Cspc%2Cvprv%2Csvpuc%2Cmime%2Cns%2Crqh%2Cgir%2Cclen%2Cdur%2Clmt&lsparams=mh%2Cmm%2Cmn%2Cms%2Cmv%2Cmvi%2Cpl%2Cinitcwndbps&lsig=AHWaYeowRAIgM6srvXDkblw6HI-LtHd6TTbw4TcxaU68C6ns5AtAf08CIG11FTNwJtPT8YE6ZUSHqGU7O9DOcK7ZLrujvY1VhM8U&sig=AJfQdSswRQIgBywXS5TPt1dpZ0PJFYZADt1SrjQbJy3QYnZZWCg2vYoCIQD17Kl6Xb-Wr1Ojxt52DUPAK6Yl6hjppciLB-seTeqdkQ%3D%3D'},\n",
       "  {'extension': 'mp4',\n",
       "   'video_format': '299 - 1920x1080 (1080p60)',\n",
       "   'url': 'https://rr2---sn-gwpa-qxaee.googlevideo.com/videoplayback?expire=1715544185&ei=GcxAZsT_MKXYvcAP26uH4Ak&ip=2405%3A201%3A404a%3A4019%3A70ee%3Af9bc%3Ab331%3A5167&id=o-AEMPf0Kl5-1v6uYBRNNr_XcweyDeXTlk86W6_A_ZQVz1&itag=299&aitags=133%2C134%2C135%2C136%2C160%2C242%2C243%2C244%2C247%2C278%2C298%2C299%2C302%2C303&source=youtube&requiressl=yes&xpc=EgVo2aDSNQ%3D%3D&mh=KD&mm=31%2C29&mn=sn-gwpa-qxaee%2Csn-gwpa-qxae7&ms=au%2Crdu&mv=m&mvi=2&pl=42&gcr=in&initcwndbps=716250&bui=AWRWj2RYVeA-GYQPmOqfobrZ2HGr4wbGa6cqkMV5xEtHwbstQ1dNsf-VM4moewVBM6iFMQ47KfTeQLfV&spc=UWF9f9EZOJ6OU-vknlfxU5LwM3ysmhf6gtiWpapuurnd6Pvwae3XNAI&vprv=1&svpuc=1&mime=video%2Fmp4&ns=Z5NCmPo1Sa9hEms0uOpv6foQ&rqh=1&gir=yes&clen=154912174&dur=3690.500&lmt=1715440431875079&mt=1715522214&fvip=5&keepalive=yes&c=WEB&sefc=1&txp=3309224&n=5TTHyn_GjDwjRg&sparams=expire%2Cei%2Cip%2Cid%2Caitags%2Csource%2Crequiressl%2Cxpc%2Cgcr%2Cbui%2Cspc%2Cvprv%2Csvpuc%2Cmime%2Cns%2Crqh%2Cgir%2Cclen%2Cdur%2Clmt&lsparams=mh%2Cmm%2Cmn%2Cms%2Cmv%2Cmvi%2Cpl%2Cinitcwndbps&lsig=AHWaYeowRAIgM6srvXDkblw6HI-LtHd6TTbw4TcxaU68C6ns5AtAf08CIG11FTNwJtPT8YE6ZUSHqGU7O9DOcK7ZLrujvY1VhM8U&sig=AJfQdSswRAIgZ0XOppInzfnklk_ojrmnKrJDB11s3t_63R7WSzZ-Z0kCIHAyE1lP4AVmI7p2r6J-wTslaZSpHERhi1QHqA6kP_ZS'},\n",
       "  {'extension': 'mp4',\n",
       "   'video_format': '18 - 640x360 (360p)',\n",
       "   'url': 'https://rr2---sn-gwpa-qxaee.googlevideo.com/videoplayback?expire=1715544185&ei=GcxAZsT_MKXYvcAP26uH4Ak&ip=2405%3A201%3A404a%3A4019%3A70ee%3Af9bc%3Ab331%3A5167&id=o-AEMPf0Kl5-1v6uYBRNNr_XcweyDeXTlk86W6_A_ZQVz1&itag=18&source=youtube&requiressl=yes&xpc=EgVo2aDSNQ%3D%3D&mh=KD&mm=31%2C29&mn=sn-gwpa-qxaee%2Csn-gwpa-qxae7&ms=au%2Crdu&mv=m&mvi=2&pl=42&gcr=in&initcwndbps=716250&bui=AWRWj2T2doO3_J2rLh84FuMCTbA0R09tc1Urr88sI4MGUZM1HpGoGS0eYg5bjgyxLO7O3GOplyRiasPm&spc=UWF9f9EZOJ6OU-vknlfxU5LwM3ysmhf6gtiWpapuurnd6Pvwae3XNAI&vprv=1&svpuc=1&mime=video%2Fmp4&ns=0Zc8Os0o_IyxERiomc-giBAQ&rqh=1&gir=yes&clen=80989575&ratebypass=yes&dur=3690.556&lmt=1715440684854011&mt=1715522214&fvip=5&c=WEB&sefc=1&txp=3309224&n=uEdsJiK3kkgELw&sparams=expire%2Cei%2Cip%2Cid%2Citag%2Csource%2Crequiressl%2Cxpc%2Cgcr%2Cbui%2Cspc%2Cvprv%2Csvpuc%2Cmime%2Cns%2Crqh%2Cgir%2Cclen%2Cratebypass%2Cdur%2Clmt&lsparams=mh%2Cmm%2Cmn%2Cms%2Cmv%2Cmvi%2Cpl%2Cinitcwndbps&lsig=AHWaYeowRAIgM6srvXDkblw6HI-LtHd6TTbw4TcxaU68C6ns5AtAf08CIG11FTNwJtPT8YE6ZUSHqGU7O9DOcK7ZLrujvY1VhM8U&sig=AJfQdSswRQIhAOWouSNfwxt8evifMcvUQs2YJiUqt6TPVR44fHj81C4eAiAPP4yf2nc3o5yQ7HQgs0CeS5pgX2-KZwgv8indwVB8Hg%3D%3D'}]}"
      ]
     },
     "execution_count": 18,
     "metadata": {},
     "output_type": "execute_result"
    }
   ],
   "source": [
    "get_video_data(\"https://www.youtube.com/watch?v=P838MAC3wJc&t=1312s\")"
   ]
  },
  {
   "cell_type": "code",
   "execution_count": 19,
   "metadata": {},
   "outputs": [
    {
     "data": {
      "text/plain": [
       "[{'format_id': '140-drc',\n",
       "  'url': 'https://rr2---sn-gwpa-qxael.googlevideo.com/videoplayback?expire=1715544182&ei=FsxAZuu7I5q_vcAPwe29wAk&ip=2405%3A201%3A404a%3A4019%3A70ee%3Af9bc%3Ab331%3A5167&id=o-AOlwk-HWhJd5lp1hKkUs9FfSxFWySIjvb1hV_fMPB8jA&itag=140&source=youtube&requiressl=yes&xpc=EgVo2aDSNQ%3D%3D&mh=wJ&mm=31%2C29&mn=sn-gwpa-qxael%2Csn-gwpa-qxay&ms=au%2Crdu&mv=m&mvi=2&pl=42&initcwndbps=695000&bui=AWRWj2Rg_ZL6uyzpIMunxYaAEJemm9i7USOCie-X2YCGiebC92wjv1XiJoFNfr1FY79rlNZWN2a7bVcU&spc=UWF9f6gpUuxh4tGvm-1W_bWw7upOcOUnTXQryDlS0o7EZmyYwy8n8-Q&vprv=1&svpuc=1&xtags=drc%3D1&mime=audio%2Fmp4&ns=xB7QQ9GLJbC3VTSR2jBKfcsQ&rqh=1&gir=yes&clen=3043447&dur=188.011&lmt=1677541483092440&mt=1715522214&fvip=1&keepalive=yes&c=WEB&sefc=1&txp=6211224&n=FKxQFXFnyfo2pQ&sparams=expire%2Cei%2Cip%2Cid%2Citag%2Csource%2Crequiressl%2Cxpc%2Cbui%2Cspc%2Cvprv%2Csvpuc%2Cxtags%2Cmime%2Cns%2Crqh%2Cgir%2Cclen%2Cdur%2Clmt&sig=AJfQdSswRQIhAJAGSOT7u8AVAGiJVEiDmEQELca2QpLxmTZPeuJnL3gWAiBJnI4qu7v2zIvlu9v7icnAN1RKxKa_UWuoUgC6WitCAA%3D%3D&lsparams=mh%2Cmm%2Cmn%2Cms%2Cmv%2Cmvi%2Cpl%2Cinitcwndbps&lsig=AHWaYeowRgIhANQwThWXJWLesNeuqDfE6Ed8crydo7XFUIqA2QO8nO9jAiEAjPEY-CKGDnYv2WePu7rga486nAjODy6VmHJylK451C4%3D',\n",
       "  'source_preference': -1,\n",
       "  'quality': -1,\n",
       "  'language': None,\n",
       "  'language_preference': -1,\n",
       "  'preference': None,\n",
       "  'asr': 44100,\n",
       "  'filesize': 3043447,\n",
       "  'format_note': 'audio_quality_medium',\n",
       "  'audio_channels': 2,\n",
       "  'tbr': 129.5,\n",
       "  'ext': 'm4a',\n",
       "  'vcodec': 'none',\n",
       "  'acodec': 'mp4a.40.2',\n",
       "  'container': 'm4a_dash',\n",
       "  'protocol': 'http_dash_segments',\n",
       "  'fragments': [{'url': 'https://rr2---sn-gwpa-qxael.googlevideo.com/videoplayback?expire=1715544182&ei=FsxAZuu7I5q_vcAPwe29wAk&ip=2405%3A201%3A404a%3A4019%3A70ee%3Af9bc%3Ab331%3A5167&id=o-AOlwk-HWhJd5lp1hKkUs9FfSxFWySIjvb1hV_fMPB8jA&itag=140&source=youtube&requiressl=yes&xpc=EgVo2aDSNQ%3D%3D&mh=wJ&mm=31%2C29&mn=sn-gwpa-qxael%2Csn-gwpa-qxay&ms=au%2Crdu&mv=m&mvi=2&pl=42&initcwndbps=695000&bui=AWRWj2Rg_ZL6uyzpIMunxYaAEJemm9i7USOCie-X2YCGiebC92wjv1XiJoFNfr1FY79rlNZWN2a7bVcU&spc=UWF9f6gpUuxh4tGvm-1W_bWw7upOcOUnTXQryDlS0o7EZmyYwy8n8-Q&vprv=1&svpuc=1&xtags=drc%3D1&mime=audio%2Fmp4&ns=xB7QQ9GLJbC3VTSR2jBKfcsQ&rqh=1&gir=yes&clen=3043447&dur=188.011&lmt=1677541483092440&mt=1715522214&fvip=1&keepalive=yes&c=WEB&sefc=1&txp=6211224&n=FKxQFXFnyfo2pQ&sparams=expire%2Cei%2Cip%2Cid%2Citag%2Csource%2Crequiressl%2Cxpc%2Cbui%2Cspc%2Cvprv%2Csvpuc%2Cxtags%2Cmime%2Cns%2Crqh%2Cgir%2Cclen%2Cdur%2Clmt&sig=AJfQdSswRQIhAJAGSOT7u8AVAGiJVEiDmEQELca2QpLxmTZPeuJnL3gWAiBJnI4qu7v2zIvlu9v7icnAN1RKxKa_UWuoUgC6WitCAA%3D%3D&lsparams=mh%2Cmm%2Cmn%2Cms%2Cmv%2Cmvi%2Cpl%2Cinitcwndbps&lsig=AHWaYeowRgIhANQwThWXJWLesNeuqDfE6Ed8crydo7XFUIqA2QO8nO9jAiEAjPEY-CKGDnYv2WePu7rga486nAjODy6VmHJylK451C4%3D&range=0-3043447'}],\n",
       "  'format': '140-drc - audio only (audio_quality_medium)',\n",
       "  'http_headers': {'User-Agent': 'Mozilla/5.0 (Windows NT 10.0; Win64; x64) AppleWebKit/537.36 (KHTML, like Gecko) Chrome/70.0.3513.0 Safari/537.36',\n",
       "   'Accept': 'text/html,application/xhtml+xml,application/xml;q=0.9,*/*;q=0.8',\n",
       "   'Accept-Language': 'en-us,en;q=0.5'}},\n",
       " {'format_id': '140',\n",
       "  'url': 'https://rr2---sn-gwpa-qxael.googlevideo.com/videoplayback?expire=1715544182&ei=FsxAZuu7I5q_vcAPwe29wAk&ip=2405%3A201%3A404a%3A4019%3A70ee%3Af9bc%3Ab331%3A5167&id=o-AOlwk-HWhJd5lp1hKkUs9FfSxFWySIjvb1hV_fMPB8jA&itag=140&source=youtube&requiressl=yes&xpc=EgVo2aDSNQ%3D%3D&mh=wJ&mm=31%2C29&mn=sn-gwpa-qxael%2Csn-gwpa-qxay&ms=au%2Crdu&mv=m&mvi=2&pl=42&initcwndbps=695000&bui=AWRWj2Rg_ZL6uyzpIMunxYaAEJemm9i7USOCie-X2YCGiebC92wjv1XiJoFNfr1FY79rlNZWN2a7bVcU&spc=UWF9f6gpUuxh4tGvm-1W_bWw7upOcOUnTXQryDlS0o7EZmyYwy8n8-Q&vprv=1&svpuc=1&mime=audio%2Fmp4&ns=xB7QQ9GLJbC3VTSR2jBKfcsQ&rqh=1&gir=yes&clen=3044198&dur=188.058&lmt=1677541483092388&mt=1715522214&fvip=1&keepalive=yes&c=WEB&sefc=1&txp=6211224&n=FKxQFXFnyfo2pQ&sparams=expire%2Cei%2Cip%2Cid%2Citag%2Csource%2Crequiressl%2Cxpc%2Cbui%2Cspc%2Cvprv%2Csvpuc%2Cmime%2Cns%2Crqh%2Cgir%2Cclen%2Cdur%2Clmt&sig=AJfQdSswRAIgasg3NoRC2rDGoqWlRxt5kvnaN39bI92PWCvCkoCJlwYCICRwmNBFLC6mYM3UPXADGm4v4FGNU-pqt8MIIppJ45gh&lsparams=mh%2Cmm%2Cmn%2Cms%2Cmv%2Cmvi%2Cpl%2Cinitcwndbps&lsig=AHWaYeowRgIhANQwThWXJWLesNeuqDfE6Ed8crydo7XFUIqA2QO8nO9jAiEAjPEY-CKGDnYv2WePu7rga486nAjODy6VmHJylK451C4%3D',\n",
       "  'source_preference': -1,\n",
       "  'quality': -1,\n",
       "  'language': None,\n",
       "  'language_preference': -1,\n",
       "  'preference': None,\n",
       "  'asr': 44100,\n",
       "  'filesize': 3044198,\n",
       "  'format_note': 'audio_quality_medium',\n",
       "  'audio_channels': 2,\n",
       "  'tbr': 129.5,\n",
       "  'ext': 'm4a',\n",
       "  'vcodec': 'none',\n",
       "  'acodec': 'mp4a.40.2',\n",
       "  'container': 'm4a_dash',\n",
       "  'protocol': 'http_dash_segments',\n",
       "  'fragments': [{'url': 'https://rr2---sn-gwpa-qxael.googlevideo.com/videoplayback?expire=1715544182&ei=FsxAZuu7I5q_vcAPwe29wAk&ip=2405%3A201%3A404a%3A4019%3A70ee%3Af9bc%3Ab331%3A5167&id=o-AOlwk-HWhJd5lp1hKkUs9FfSxFWySIjvb1hV_fMPB8jA&itag=140&source=youtube&requiressl=yes&xpc=EgVo2aDSNQ%3D%3D&mh=wJ&mm=31%2C29&mn=sn-gwpa-qxael%2Csn-gwpa-qxay&ms=au%2Crdu&mv=m&mvi=2&pl=42&initcwndbps=695000&bui=AWRWj2Rg_ZL6uyzpIMunxYaAEJemm9i7USOCie-X2YCGiebC92wjv1XiJoFNfr1FY79rlNZWN2a7bVcU&spc=UWF9f6gpUuxh4tGvm-1W_bWw7upOcOUnTXQryDlS0o7EZmyYwy8n8-Q&vprv=1&svpuc=1&mime=audio%2Fmp4&ns=xB7QQ9GLJbC3VTSR2jBKfcsQ&rqh=1&gir=yes&clen=3044198&dur=188.058&lmt=1677541483092388&mt=1715522214&fvip=1&keepalive=yes&c=WEB&sefc=1&txp=6211224&n=FKxQFXFnyfo2pQ&sparams=expire%2Cei%2Cip%2Cid%2Citag%2Csource%2Crequiressl%2Cxpc%2Cbui%2Cspc%2Cvprv%2Csvpuc%2Cmime%2Cns%2Crqh%2Cgir%2Cclen%2Cdur%2Clmt&sig=AJfQdSswRAIgasg3NoRC2rDGoqWlRxt5kvnaN39bI92PWCvCkoCJlwYCICRwmNBFLC6mYM3UPXADGm4v4FGNU-pqt8MIIppJ45gh&lsparams=mh%2Cmm%2Cmn%2Cms%2Cmv%2Cmvi%2Cpl%2Cinitcwndbps&lsig=AHWaYeowRgIhANQwThWXJWLesNeuqDfE6Ed8crydo7XFUIqA2QO8nO9jAiEAjPEY-CKGDnYv2WePu7rga486nAjODy6VmHJylK451C4%3D&range=0-3044198'}],\n",
       "  'format': '140 - audio only (audio_quality_medium)',\n",
       "  'http_headers': {'User-Agent': 'Mozilla/5.0 (Windows NT 10.0; Win64; x64) AppleWebKit/537.36 (KHTML, like Gecko) Chrome/70.0.3513.0 Safari/537.36',\n",
       "   'Accept': 'text/html,application/xhtml+xml,application/xml;q=0.9,*/*;q=0.8',\n",
       "   'Accept-Language': 'en-us,en;q=0.5'}},\n",
       " {'format_id': '251',\n",
       "  'url': 'https://rr2---sn-gwpa-qxael.googlevideo.com/videoplayback?expire=1715544182&ei=FsxAZuu7I5q_vcAPwe29wAk&ip=2405%3A201%3A404a%3A4019%3A70ee%3Af9bc%3Ab331%3A5167&id=o-AOlwk-HWhJd5lp1hKkUs9FfSxFWySIjvb1hV_fMPB8jA&itag=251&source=youtube&requiressl=yes&xpc=EgVo2aDSNQ%3D%3D&mh=wJ&mm=31%2C29&mn=sn-gwpa-qxael%2Csn-gwpa-qxay&ms=au%2Crdu&mv=m&mvi=2&pl=42&initcwndbps=695000&bui=AWRWj2Rg_ZL6uyzpIMunxYaAEJemm9i7USOCie-X2YCGiebC92wjv1XiJoFNfr1FY79rlNZWN2a7bVcU&spc=UWF9f6gpUuxh4tGvm-1W_bWw7upOcOUnTXQryDlS0o7EZmyYwy8n8-Q&vprv=1&svpuc=1&mime=audio%2Fwebm&ns=xB7QQ9GLJbC3VTSR2jBKfcsQ&rqh=1&gir=yes&clen=3598163&dur=187.981&lmt=1587566285564466&mt=1715522214&fvip=1&keepalive=yes&c=WEB&sefc=1&txp=6211222&n=FKxQFXFnyfo2pQ&sparams=expire%2Cei%2Cip%2Cid%2Citag%2Csource%2Crequiressl%2Cxpc%2Cbui%2Cspc%2Cvprv%2Csvpuc%2Cmime%2Cns%2Crqh%2Cgir%2Cclen%2Cdur%2Clmt&sig=AJfQdSswRQIhALWmILl4VtHkMviWzcJLW32UovtwD3A72JiZyKZcqxl9AiAs4NPL_HCIJUWfgRPpFNKG0Wu2Vh9jKzACk5kATCT0fQ%3D%3D&lsparams=mh%2Cmm%2Cmn%2Cms%2Cmv%2Cmvi%2Cpl%2Cinitcwndbps&lsig=AHWaYeowRgIhANQwThWXJWLesNeuqDfE6Ed8crydo7XFUIqA2QO8nO9jAiEAjPEY-CKGDnYv2WePu7rga486nAjODy6VmHJylK451C4%3D',\n",
       "  'source_preference': -1,\n",
       "  'quality': -1,\n",
       "  'language': None,\n",
       "  'language_preference': -1,\n",
       "  'preference': None,\n",
       "  'asr': 48000,\n",
       "  'filesize': 3598163,\n",
       "  'format_note': 'audio_quality_medium',\n",
       "  'audio_channels': 2,\n",
       "  'tbr': 153.128,\n",
       "  'ext': 'webm',\n",
       "  'vcodec': 'none',\n",
       "  'acodec': 'opus',\n",
       "  'container': 'webm_dash',\n",
       "  'protocol': 'http_dash_segments',\n",
       "  'fragments': [{'url': 'https://rr2---sn-gwpa-qxael.googlevideo.com/videoplayback?expire=1715544182&ei=FsxAZuu7I5q_vcAPwe29wAk&ip=2405%3A201%3A404a%3A4019%3A70ee%3Af9bc%3Ab331%3A5167&id=o-AOlwk-HWhJd5lp1hKkUs9FfSxFWySIjvb1hV_fMPB8jA&itag=251&source=youtube&requiressl=yes&xpc=EgVo2aDSNQ%3D%3D&mh=wJ&mm=31%2C29&mn=sn-gwpa-qxael%2Csn-gwpa-qxay&ms=au%2Crdu&mv=m&mvi=2&pl=42&initcwndbps=695000&bui=AWRWj2Rg_ZL6uyzpIMunxYaAEJemm9i7USOCie-X2YCGiebC92wjv1XiJoFNfr1FY79rlNZWN2a7bVcU&spc=UWF9f6gpUuxh4tGvm-1W_bWw7upOcOUnTXQryDlS0o7EZmyYwy8n8-Q&vprv=1&svpuc=1&mime=audio%2Fwebm&ns=xB7QQ9GLJbC3VTSR2jBKfcsQ&rqh=1&gir=yes&clen=3598163&dur=187.981&lmt=1587566285564466&mt=1715522214&fvip=1&keepalive=yes&c=WEB&sefc=1&txp=6211222&n=FKxQFXFnyfo2pQ&sparams=expire%2Cei%2Cip%2Cid%2Citag%2Csource%2Crequiressl%2Cxpc%2Cbui%2Cspc%2Cvprv%2Csvpuc%2Cmime%2Cns%2Crqh%2Cgir%2Cclen%2Cdur%2Clmt&sig=AJfQdSswRQIhALWmILl4VtHkMviWzcJLW32UovtwD3A72JiZyKZcqxl9AiAs4NPL_HCIJUWfgRPpFNKG0Wu2Vh9jKzACk5kATCT0fQ%3D%3D&lsparams=mh%2Cmm%2Cmn%2Cms%2Cmv%2Cmvi%2Cpl%2Cinitcwndbps&lsig=AHWaYeowRgIhANQwThWXJWLesNeuqDfE6Ed8crydo7XFUIqA2QO8nO9jAiEAjPEY-CKGDnYv2WePu7rga486nAjODy6VmHJylK451C4%3D&range=0-3598163'}],\n",
       "  'format': '251 - audio only (audio_quality_medium)',\n",
       "  'http_headers': {'User-Agent': 'Mozilla/5.0 (Windows NT 10.0; Win64; x64) AppleWebKit/537.36 (KHTML, like Gecko) Chrome/70.0.3513.0 Safari/537.36',\n",
       "   'Accept': 'text/html,application/xhtml+xml,application/xml;q=0.9,*/*;q=0.8',\n",
       "   'Accept-Language': 'en-us,en;q=0.5'}},\n",
       " {'format_id': '251-drc',\n",
       "  'url': 'https://rr2---sn-gwpa-qxael.googlevideo.com/videoplayback?expire=1715544182&ei=FsxAZuu7I5q_vcAPwe29wAk&ip=2405%3A201%3A404a%3A4019%3A70ee%3Af9bc%3Ab331%3A5167&id=o-AOlwk-HWhJd5lp1hKkUs9FfSxFWySIjvb1hV_fMPB8jA&itag=251&source=youtube&requiressl=yes&xpc=EgVo2aDSNQ%3D%3D&mh=wJ&mm=31%2C29&mn=sn-gwpa-qxael%2Csn-gwpa-qxay&ms=au%2Crdu&mv=m&mvi=2&pl=42&initcwndbps=695000&bui=AWRWj2Rg_ZL6uyzpIMunxYaAEJemm9i7USOCie-X2YCGiebC92wjv1XiJoFNfr1FY79rlNZWN2a7bVcU&spc=UWF9f6gpUuxh4tGvm-1W_bWw7upOcOUnTXQryDlS0o7EZmyYwy8n8-Q&vprv=1&svpuc=1&xtags=drc%3D1&mime=audio%2Fwebm&ns=xB7QQ9GLJbC3VTSR2jBKfcsQ&rqh=1&gir=yes&clen=3598384&dur=187.981&lmt=1665216608319052&mt=1715522214&fvip=1&keepalive=yes&c=WEB&sefc=1&txp=6211224&n=FKxQFXFnyfo2pQ&sparams=expire%2Cei%2Cip%2Cid%2Citag%2Csource%2Crequiressl%2Cxpc%2Cbui%2Cspc%2Cvprv%2Csvpuc%2Cxtags%2Cmime%2Cns%2Crqh%2Cgir%2Cclen%2Cdur%2Clmt&sig=AJfQdSswRQIgGm7-N2hoG2r12HhTnhtxqKHElmNvNIcMlc7D65g0VW4CIQCGBh0kGIiy_dCc-BaWhni_gjEMRCnPaaJUXSP3iQ3xNQ%3D%3D&lsparams=mh%2Cmm%2Cmn%2Cms%2Cmv%2Cmvi%2Cpl%2Cinitcwndbps&lsig=AHWaYeowRgIhANQwThWXJWLesNeuqDfE6Ed8crydo7XFUIqA2QO8nO9jAiEAjPEY-CKGDnYv2WePu7rga486nAjODy6VmHJylK451C4%3D',\n",
       "  'source_preference': -1,\n",
       "  'quality': -1,\n",
       "  'language': None,\n",
       "  'language_preference': -1,\n",
       "  'preference': None,\n",
       "  'asr': 48000,\n",
       "  'filesize': 3598384,\n",
       "  'format_note': 'audio_quality_medium',\n",
       "  'audio_channels': 2,\n",
       "  'tbr': 153.138,\n",
       "  'ext': 'webm',\n",
       "  'vcodec': 'none',\n",
       "  'acodec': 'opus',\n",
       "  'container': 'webm_dash',\n",
       "  'protocol': 'http_dash_segments',\n",
       "  'fragments': [{'url': 'https://rr2---sn-gwpa-qxael.googlevideo.com/videoplayback?expire=1715544182&ei=FsxAZuu7I5q_vcAPwe29wAk&ip=2405%3A201%3A404a%3A4019%3A70ee%3Af9bc%3Ab331%3A5167&id=o-AOlwk-HWhJd5lp1hKkUs9FfSxFWySIjvb1hV_fMPB8jA&itag=251&source=youtube&requiressl=yes&xpc=EgVo2aDSNQ%3D%3D&mh=wJ&mm=31%2C29&mn=sn-gwpa-qxael%2Csn-gwpa-qxay&ms=au%2Crdu&mv=m&mvi=2&pl=42&initcwndbps=695000&bui=AWRWj2Rg_ZL6uyzpIMunxYaAEJemm9i7USOCie-X2YCGiebC92wjv1XiJoFNfr1FY79rlNZWN2a7bVcU&spc=UWF9f6gpUuxh4tGvm-1W_bWw7upOcOUnTXQryDlS0o7EZmyYwy8n8-Q&vprv=1&svpuc=1&xtags=drc%3D1&mime=audio%2Fwebm&ns=xB7QQ9GLJbC3VTSR2jBKfcsQ&rqh=1&gir=yes&clen=3598384&dur=187.981&lmt=1665216608319052&mt=1715522214&fvip=1&keepalive=yes&c=WEB&sefc=1&txp=6211224&n=FKxQFXFnyfo2pQ&sparams=expire%2Cei%2Cip%2Cid%2Citag%2Csource%2Crequiressl%2Cxpc%2Cbui%2Cspc%2Cvprv%2Csvpuc%2Cxtags%2Cmime%2Cns%2Crqh%2Cgir%2Cclen%2Cdur%2Clmt&sig=AJfQdSswRQIgGm7-N2hoG2r12HhTnhtxqKHElmNvNIcMlc7D65g0VW4CIQCGBh0kGIiy_dCc-BaWhni_gjEMRCnPaaJUXSP3iQ3xNQ%3D%3D&lsparams=mh%2Cmm%2Cmn%2Cms%2Cmv%2Cmvi%2Cpl%2Cinitcwndbps&lsig=AHWaYeowRgIhANQwThWXJWLesNeuqDfE6Ed8crydo7XFUIqA2QO8nO9jAiEAjPEY-CKGDnYv2WePu7rga486nAjODy6VmHJylK451C4%3D&range=0-3598384'}],\n",
       "  'format': '251-drc - audio only (audio_quality_medium)',\n",
       "  'http_headers': {'User-Agent': 'Mozilla/5.0 (Windows NT 10.0; Win64; x64) AppleWebKit/537.36 (KHTML, like Gecko) Chrome/70.0.3513.0 Safari/537.36',\n",
       "   'Accept': 'text/html,application/xhtml+xml,application/xml;q=0.9,*/*;q=0.8',\n",
       "   'Accept-Language': 'en-us,en;q=0.5'}},\n",
       " {'format_id': '160',\n",
       "  'url': 'https://rr2---sn-gwpa-qxael.googlevideo.com/videoplayback?expire=1715544182&ei=FsxAZuu7I5q_vcAPwe29wAk&ip=2405%3A201%3A404a%3A4019%3A70ee%3Af9bc%3Ab331%3A5167&id=o-AOlwk-HWhJd5lp1hKkUs9FfSxFWySIjvb1hV_fMPB8jA&itag=160&aitags=134%2C136%2C160&source=youtube&requiressl=yes&xpc=EgVo2aDSNQ%3D%3D&mh=wJ&mm=31%2C29&mn=sn-gwpa-qxael%2Csn-gwpa-qxay&ms=au%2Crdu&mv=m&mvi=2&pl=42&initcwndbps=695000&bui=AWRWj2Rg_ZL6uyzpIMunxYaAEJemm9i7USOCie-X2YCGiebC92wjv1XiJoFNfr1FY79rlNZWN2a7bVcU&spc=UWF9f6gpUuxh4tGvm-1W_bWw7upOcOUnTXQryDlS0o7EZmyYwy8n8-Q&vprv=1&svpuc=1&mime=video%2Fmp4&ns=xB7QQ9GLJbC3VTSR2jBKfcsQ&rqh=1&gir=yes&clen=619794&dur=187.999&lmt=1677542100227579&mt=1715522214&fvip=1&keepalive=yes&c=WEB&sefc=1&txp=6216224&n=FKxQFXFnyfo2pQ&sparams=expire%2Cei%2Cip%2Cid%2Caitags%2Csource%2Crequiressl%2Cxpc%2Cbui%2Cspc%2Cvprv%2Csvpuc%2Cmime%2Cns%2Crqh%2Cgir%2Cclen%2Cdur%2Clmt&sig=AJfQdSswRgIhAKyowpFSpCG-4tuIwso_ZskQirXEj3KnUPyDKQ-6bNcuAiEA6KXTJQRFzeZ5GslFWPwu78kZWfQAAd_gsHh6Pj8LJg8%3D&lsparams=mh%2Cmm%2Cmn%2Cms%2Cmv%2Cmvi%2Cpl%2Cinitcwndbps&lsig=AHWaYeowRgIhANQwThWXJWLesNeuqDfE6Ed8crydo7XFUIqA2QO8nO9jAiEAjPEY-CKGDnYv2WePu7rga486nAjODy6VmHJylK451C4%3D',\n",
       "  'source_preference': -1,\n",
       "  'quality': 0,\n",
       "  'language': None,\n",
       "  'language_preference': -1,\n",
       "  'preference': None,\n",
       "  'filesize': 619794,\n",
       "  'format_note': '144p',\n",
       "  'fps': 24,\n",
       "  'height': 144,\n",
       "  'tbr': 26.374,\n",
       "  'width': 256,\n",
       "  'ext': 'mp4',\n",
       "  'vcodec': 'avc1.4d400c',\n",
       "  'acodec': 'none',\n",
       "  'container': 'mp4_dash',\n",
       "  'protocol': 'http_dash_segments',\n",
       "  'fragments': [{'url': 'https://rr2---sn-gwpa-qxael.googlevideo.com/videoplayback?expire=1715544182&ei=FsxAZuu7I5q_vcAPwe29wAk&ip=2405%3A201%3A404a%3A4019%3A70ee%3Af9bc%3Ab331%3A5167&id=o-AOlwk-HWhJd5lp1hKkUs9FfSxFWySIjvb1hV_fMPB8jA&itag=160&aitags=134%2C136%2C160&source=youtube&requiressl=yes&xpc=EgVo2aDSNQ%3D%3D&mh=wJ&mm=31%2C29&mn=sn-gwpa-qxael%2Csn-gwpa-qxay&ms=au%2Crdu&mv=m&mvi=2&pl=42&initcwndbps=695000&bui=AWRWj2Rg_ZL6uyzpIMunxYaAEJemm9i7USOCie-X2YCGiebC92wjv1XiJoFNfr1FY79rlNZWN2a7bVcU&spc=UWF9f6gpUuxh4tGvm-1W_bWw7upOcOUnTXQryDlS0o7EZmyYwy8n8-Q&vprv=1&svpuc=1&mime=video%2Fmp4&ns=xB7QQ9GLJbC3VTSR2jBKfcsQ&rqh=1&gir=yes&clen=619794&dur=187.999&lmt=1677542100227579&mt=1715522214&fvip=1&keepalive=yes&c=WEB&sefc=1&txp=6216224&n=FKxQFXFnyfo2pQ&sparams=expire%2Cei%2Cip%2Cid%2Caitags%2Csource%2Crequiressl%2Cxpc%2Cbui%2Cspc%2Cvprv%2Csvpuc%2Cmime%2Cns%2Crqh%2Cgir%2Cclen%2Cdur%2Clmt&sig=AJfQdSswRgIhAKyowpFSpCG-4tuIwso_ZskQirXEj3KnUPyDKQ-6bNcuAiEA6KXTJQRFzeZ5GslFWPwu78kZWfQAAd_gsHh6Pj8LJg8%3D&lsparams=mh%2Cmm%2Cmn%2Cms%2Cmv%2Cmvi%2Cpl%2Cinitcwndbps&lsig=AHWaYeowRgIhANQwThWXJWLesNeuqDfE6Ed8crydo7XFUIqA2QO8nO9jAiEAjPEY-CKGDnYv2WePu7rga486nAjODy6VmHJylK451C4%3D&range=0-619794'}],\n",
       "  'format': '160 - 256x144 (144p)',\n",
       "  'http_headers': {'User-Agent': 'Mozilla/5.0 (Windows NT 10.0; Win64; x64) AppleWebKit/537.36 (KHTML, like Gecko) Chrome/70.0.3513.0 Safari/537.36',\n",
       "   'Accept': 'text/html,application/xhtml+xml,application/xml;q=0.9,*/*;q=0.8',\n",
       "   'Accept-Language': 'en-us,en;q=0.5'}},\n",
       " {'format_id': '134',\n",
       "  'url': 'https://rr2---sn-gwpa-qxael.googlevideo.com/videoplayback?expire=1715544182&ei=FsxAZuu7I5q_vcAPwe29wAk&ip=2405%3A201%3A404a%3A4019%3A70ee%3Af9bc%3Ab331%3A5167&id=o-AOlwk-HWhJd5lp1hKkUs9FfSxFWySIjvb1hV_fMPB8jA&itag=134&aitags=134%2C136%2C160&source=youtube&requiressl=yes&xpc=EgVo2aDSNQ%3D%3D&mh=wJ&mm=31%2C29&mn=sn-gwpa-qxael%2Csn-gwpa-qxay&ms=au%2Crdu&mv=m&mvi=2&pl=42&initcwndbps=695000&bui=AWRWj2Rg_ZL6uyzpIMunxYaAEJemm9i7USOCie-X2YCGiebC92wjv1XiJoFNfr1FY79rlNZWN2a7bVcU&spc=UWF9f6gpUuxh4tGvm-1W_bWw7upOcOUnTXQryDlS0o7EZmyYwy8n8-Q&vprv=1&svpuc=1&mime=video%2Fmp4&ns=xB7QQ9GLJbC3VTSR2jBKfcsQ&rqh=1&gir=yes&clen=1963249&dur=187.999&lmt=1677542097501000&mt=1715522214&fvip=1&keepalive=yes&c=WEB&sefc=1&txp=6216224&n=FKxQFXFnyfo2pQ&sparams=expire%2Cei%2Cip%2Cid%2Caitags%2Csource%2Crequiressl%2Cxpc%2Cbui%2Cspc%2Cvprv%2Csvpuc%2Cmime%2Cns%2Crqh%2Cgir%2Cclen%2Cdur%2Clmt&sig=AJfQdSswRAIgG6pHrP_Jl76uHWd58Qw4oJAqhSY6Q9raFEJFA6gluugCIC_oThOZBOLVSCz0hnRfxD_4YwWxdUm3O2uF6t_QLPNm&lsparams=mh%2Cmm%2Cmn%2Cms%2Cmv%2Cmvi%2Cpl%2Cinitcwndbps&lsig=AHWaYeowRgIhANQwThWXJWLesNeuqDfE6Ed8crydo7XFUIqA2QO8nO9jAiEAjPEY-CKGDnYv2WePu7rga486nAjODy6VmHJylK451C4%3D',\n",
       "  'source_preference': -1,\n",
       "  'quality': 2,\n",
       "  'language': None,\n",
       "  'language_preference': -1,\n",
       "  'preference': None,\n",
       "  'filesize': 1963249,\n",
       "  'format_note': '360p',\n",
       "  'fps': 24,\n",
       "  'height': 360,\n",
       "  'tbr': 83.542,\n",
       "  'width': 640,\n",
       "  'ext': 'mp4',\n",
       "  'vcodec': 'avc1.4d401e',\n",
       "  'acodec': 'none',\n",
       "  'container': 'mp4_dash',\n",
       "  'protocol': 'http_dash_segments',\n",
       "  'fragments': [{'url': 'https://rr2---sn-gwpa-qxael.googlevideo.com/videoplayback?expire=1715544182&ei=FsxAZuu7I5q_vcAPwe29wAk&ip=2405%3A201%3A404a%3A4019%3A70ee%3Af9bc%3Ab331%3A5167&id=o-AOlwk-HWhJd5lp1hKkUs9FfSxFWySIjvb1hV_fMPB8jA&itag=134&aitags=134%2C136%2C160&source=youtube&requiressl=yes&xpc=EgVo2aDSNQ%3D%3D&mh=wJ&mm=31%2C29&mn=sn-gwpa-qxael%2Csn-gwpa-qxay&ms=au%2Crdu&mv=m&mvi=2&pl=42&initcwndbps=695000&bui=AWRWj2Rg_ZL6uyzpIMunxYaAEJemm9i7USOCie-X2YCGiebC92wjv1XiJoFNfr1FY79rlNZWN2a7bVcU&spc=UWF9f6gpUuxh4tGvm-1W_bWw7upOcOUnTXQryDlS0o7EZmyYwy8n8-Q&vprv=1&svpuc=1&mime=video%2Fmp4&ns=xB7QQ9GLJbC3VTSR2jBKfcsQ&rqh=1&gir=yes&clen=1963249&dur=187.999&lmt=1677542097501000&mt=1715522214&fvip=1&keepalive=yes&c=WEB&sefc=1&txp=6216224&n=FKxQFXFnyfo2pQ&sparams=expire%2Cei%2Cip%2Cid%2Caitags%2Csource%2Crequiressl%2Cxpc%2Cbui%2Cspc%2Cvprv%2Csvpuc%2Cmime%2Cns%2Crqh%2Cgir%2Cclen%2Cdur%2Clmt&sig=AJfQdSswRAIgG6pHrP_Jl76uHWd58Qw4oJAqhSY6Q9raFEJFA6gluugCIC_oThOZBOLVSCz0hnRfxD_4YwWxdUm3O2uF6t_QLPNm&lsparams=mh%2Cmm%2Cmn%2Cms%2Cmv%2Cmvi%2Cpl%2Cinitcwndbps&lsig=AHWaYeowRgIhANQwThWXJWLesNeuqDfE6Ed8crydo7XFUIqA2QO8nO9jAiEAjPEY-CKGDnYv2WePu7rga486nAjODy6VmHJylK451C4%3D&range=0-1963249'}],\n",
       "  'format': '134 - 640x360 (360p)',\n",
       "  'http_headers': {'User-Agent': 'Mozilla/5.0 (Windows NT 10.0; Win64; x64) AppleWebKit/537.36 (KHTML, like Gecko) Chrome/70.0.3513.0 Safari/537.36',\n",
       "   'Accept': 'text/html,application/xhtml+xml,application/xml;q=0.9,*/*;q=0.8',\n",
       "   'Accept-Language': 'en-us,en;q=0.5'}},\n",
       " {'format_id': '136',\n",
       "  'url': 'https://rr2---sn-gwpa-qxael.googlevideo.com/videoplayback?expire=1715544182&ei=FsxAZuu7I5q_vcAPwe29wAk&ip=2405%3A201%3A404a%3A4019%3A70ee%3Af9bc%3Ab331%3A5167&id=o-AOlwk-HWhJd5lp1hKkUs9FfSxFWySIjvb1hV_fMPB8jA&itag=136&aitags=134%2C136%2C160&source=youtube&requiressl=yes&xpc=EgVo2aDSNQ%3D%3D&mh=wJ&mm=31%2C29&mn=sn-gwpa-qxael%2Csn-gwpa-qxay&ms=au%2Crdu&mv=m&mvi=2&pl=42&initcwndbps=695000&bui=AWRWj2Rg_ZL6uyzpIMunxYaAEJemm9i7USOCie-X2YCGiebC92wjv1XiJoFNfr1FY79rlNZWN2a7bVcU&spc=UWF9f6gpUuxh4tGvm-1W_bWw7upOcOUnTXQryDlS0o7EZmyYwy8n8-Q&vprv=1&svpuc=1&mime=video%2Fmp4&ns=xB7QQ9GLJbC3VTSR2jBKfcsQ&rqh=1&gir=yes&clen=5745512&dur=187.999&lmt=1677542096512303&mt=1715522214&fvip=1&keepalive=yes&c=WEB&sefc=1&txp=6216224&n=FKxQFXFnyfo2pQ&sparams=expire%2Cei%2Cip%2Cid%2Caitags%2Csource%2Crequiressl%2Cxpc%2Cbui%2Cspc%2Cvprv%2Csvpuc%2Cmime%2Cns%2Crqh%2Cgir%2Cclen%2Cdur%2Clmt&sig=AJfQdSswRQIgQgHTzvHUQ6_6NKOXP5fjqYwueFvkLX4c1VIRIsvQHm8CIQDhm3-23JUqJdJRiYZbHExPLui9gubu7p4AYW-husmZZg%3D%3D&lsparams=mh%2Cmm%2Cmn%2Cms%2Cmv%2Cmvi%2Cpl%2Cinitcwndbps&lsig=AHWaYeowRgIhANQwThWXJWLesNeuqDfE6Ed8crydo7XFUIqA2QO8nO9jAiEAjPEY-CKGDnYv2WePu7rga486nAjODy6VmHJylK451C4%3D',\n",
       "  'source_preference': -1,\n",
       "  'quality': 4,\n",
       "  'language': None,\n",
       "  'language_preference': -1,\n",
       "  'preference': None,\n",
       "  'filesize': 5745512,\n",
       "  'format_note': '720p',\n",
       "  'fps': 24,\n",
       "  'height': 720,\n",
       "  'tbr': 244.491,\n",
       "  'width': 1280,\n",
       "  'ext': 'mp4',\n",
       "  'vcodec': 'avc1.64001f',\n",
       "  'acodec': 'none',\n",
       "  'container': 'mp4_dash',\n",
       "  'protocol': 'http_dash_segments',\n",
       "  'fragments': [{'url': 'https://rr2---sn-gwpa-qxael.googlevideo.com/videoplayback?expire=1715544182&ei=FsxAZuu7I5q_vcAPwe29wAk&ip=2405%3A201%3A404a%3A4019%3A70ee%3Af9bc%3Ab331%3A5167&id=o-AOlwk-HWhJd5lp1hKkUs9FfSxFWySIjvb1hV_fMPB8jA&itag=136&aitags=134%2C136%2C160&source=youtube&requiressl=yes&xpc=EgVo2aDSNQ%3D%3D&mh=wJ&mm=31%2C29&mn=sn-gwpa-qxael%2Csn-gwpa-qxay&ms=au%2Crdu&mv=m&mvi=2&pl=42&initcwndbps=695000&bui=AWRWj2Rg_ZL6uyzpIMunxYaAEJemm9i7USOCie-X2YCGiebC92wjv1XiJoFNfr1FY79rlNZWN2a7bVcU&spc=UWF9f6gpUuxh4tGvm-1W_bWw7upOcOUnTXQryDlS0o7EZmyYwy8n8-Q&vprv=1&svpuc=1&mime=video%2Fmp4&ns=xB7QQ9GLJbC3VTSR2jBKfcsQ&rqh=1&gir=yes&clen=5745512&dur=187.999&lmt=1677542096512303&mt=1715522214&fvip=1&keepalive=yes&c=WEB&sefc=1&txp=6216224&n=FKxQFXFnyfo2pQ&sparams=expire%2Cei%2Cip%2Cid%2Caitags%2Csource%2Crequiressl%2Cxpc%2Cbui%2Cspc%2Cvprv%2Csvpuc%2Cmime%2Cns%2Crqh%2Cgir%2Cclen%2Cdur%2Clmt&sig=AJfQdSswRQIgQgHTzvHUQ6_6NKOXP5fjqYwueFvkLX4c1VIRIsvQHm8CIQDhm3-23JUqJdJRiYZbHExPLui9gubu7p4AYW-husmZZg%3D%3D&lsparams=mh%2Cmm%2Cmn%2Cms%2Cmv%2Cmvi%2Cpl%2Cinitcwndbps&lsig=AHWaYeowRgIhANQwThWXJWLesNeuqDfE6Ed8crydo7XFUIqA2QO8nO9jAiEAjPEY-CKGDnYv2WePu7rga486nAjODy6VmHJylK451C4%3D&range=0-5745512'}],\n",
       "  'format': '136 - 1280x720 (720p)',\n",
       "  'http_headers': {'User-Agent': 'Mozilla/5.0 (Windows NT 10.0; Win64; x64) AppleWebKit/537.36 (KHTML, like Gecko) Chrome/70.0.3513.0 Safari/537.36',\n",
       "   'Accept': 'text/html,application/xhtml+xml,application/xml;q=0.9,*/*;q=0.8',\n",
       "   'Accept-Language': 'en-us,en;q=0.5'}},\n",
       " {'format_id': '18',\n",
       "  'url': 'https://rr2---sn-gwpa-qxael.googlevideo.com/videoplayback?expire=1715544182&ei=FsxAZuu7I5q_vcAPwe29wAk&ip=2405%3A201%3A404a%3A4019%3A70ee%3Af9bc%3Ab331%3A5167&id=o-AOlwk-HWhJd5lp1hKkUs9FfSxFWySIjvb1hV_fMPB8jA&itag=18&source=youtube&requiressl=yes&xpc=EgVo2aDSNQ%3D%3D&mh=wJ&mm=31%2C29&mn=sn-gwpa-qxael%2Csn-gwpa-qxay&ms=au%2Crdu&mv=m&mvi=2&pl=42&initcwndbps=695000&bui=AWRWj2Spus4sfPYxIonxzmlCsqhjjviZat9saPhJv8g1ZkDX5WTQTEUaCt4ngSwaeRGepc_cfmk7rLgg&spc=UWF9f6gpUuxh4tGvm-1W_bWw7upOcOUnTXQryDlS0o7EZmyYwy8n8-Q&vprv=1&svpuc=1&mime=video%2Fmp4&ns=befFby6_rBVem3YcHco3unkQ&rqh=1&cnr=14&ratebypass=yes&dur=188.058&lmt=1677542099504146&mt=1715522214&fvip=1&c=WEB&sefc=1&txp=6219224&n=KDmxpaae5o7blw&sparams=expire%2Cei%2Cip%2Cid%2Citag%2Csource%2Crequiressl%2Cxpc%2Cbui%2Cspc%2Cvprv%2Csvpuc%2Cmime%2Cns%2Crqh%2Ccnr%2Cratebypass%2Cdur%2Clmt&sig=AJfQdSswRQIgRehK-ZkdJdb91dzji7AWG8e7xLT0Vtt4PnvRFVep-PkCIQC9vEmQK_AvVlkQDq1vEHf1YOBbUmLOvJ5m-Ewp3474_A%3D%3D&lsparams=mh%2Cmm%2Cmn%2Cms%2Cmv%2Cmvi%2Cpl%2Cinitcwndbps&lsig=AHWaYeowRgIhANQwThWXJWLesNeuqDfE6Ed8crydo7XFUIqA2QO8nO9jAiEAjPEY-CKGDnYv2WePu7rga486nAjODy6VmHJylK451C4%3D',\n",
       "  'source_preference': -1,\n",
       "  'quality': 2,\n",
       "  'language': None,\n",
       "  'language_preference': -1,\n",
       "  'preference': None,\n",
       "  'asr': 44100,\n",
       "  'format_note': '360p',\n",
       "  'fps': 24,\n",
       "  'audio_channels': 2,\n",
       "  'height': 360,\n",
       "  'tbr': 211.891,\n",
       "  'width': 640,\n",
       "  'ext': 'mp4',\n",
       "  'vcodec': 'avc1.42001E',\n",
       "  'acodec': 'mp4a.40.2',\n",
       "  'format': '18 - 640x360 (360p)',\n",
       "  'protocol': 'https',\n",
       "  'http_headers': {'User-Agent': 'Mozilla/5.0 (Windows NT 10.0; Win64; x64) AppleWebKit/537.36 (KHTML, like Gecko) Chrome/70.0.3513.0 Safari/537.36',\n",
       "   'Accept': 'text/html,application/xhtml+xml,application/xml;q=0.9,*/*;q=0.8',\n",
       "   'Accept-Language': 'en-us,en;q=0.5'}},\n",
       " {'format_id': '22',\n",
       "  'url': 'https://rr2---sn-gwpa-qxael.googlevideo.com/videoplayback?expire=1715544182&ei=FsxAZuu7I5q_vcAPwe29wAk&ip=2405%3A201%3A404a%3A4019%3A70ee%3Af9bc%3Ab331%3A5167&id=o-AOlwk-HWhJd5lp1hKkUs9FfSxFWySIjvb1hV_fMPB8jA&itag=22&source=youtube&requiressl=yes&xpc=EgVo2aDSNQ%3D%3D&mh=wJ&mm=31%2C29&mn=sn-gwpa-qxael%2Csn-gwpa-qxay&ms=au%2Crdu&mv=m&mvi=2&pl=42&initcwndbps=695000&bui=AWRWj2Spus4sfPYxIonxzmlCsqhjjviZat9saPhJv8g1ZkDX5WTQTEUaCt4ngSwaeRGepc_cfmk7rLgg&spc=UWF9f6gpUuxh4tGvm-1W_bWw7upOcOUnTXQryDlS0o7EZmyYwy8n8-Q&vprv=1&svpuc=1&mime=video%2Fmp4&ns=befFby6_rBVem3YcHco3unkQ&rqh=1&cnr=14&ratebypass=yes&dur=188.058&lmt=1677542098560152&mt=1715522214&fvip=1&c=WEB&sefc=1&txp=6211224&n=KDmxpaae5o7blw&sparams=expire%2Cei%2Cip%2Cid%2Citag%2Csource%2Crequiressl%2Cxpc%2Cbui%2Cspc%2Cvprv%2Csvpuc%2Cmime%2Cns%2Crqh%2Ccnr%2Cratebypass%2Cdur%2Clmt&sig=AJfQdSswRgIhAI4P73tr00I5cyCoODRSTewFNXAu_GSEZinAyIrMvVlDAiEAgbPaonI4EEZk1woePkvNkwOkbsL16elDrsP16pGnxDs%3D&lsparams=mh%2Cmm%2Cmn%2Cms%2Cmv%2Cmvi%2Cpl%2Cinitcwndbps&lsig=AHWaYeowRgIhANQwThWXJWLesNeuqDfE6Ed8crydo7XFUIqA2QO8nO9jAiEAjPEY-CKGDnYv2WePu7rga486nAjODy6VmHJylK451C4%3D',\n",
       "  'source_preference': -5,\n",
       "  'quality': 4,\n",
       "  'language': None,\n",
       "  'language_preference': -1,\n",
       "  'preference': None,\n",
       "  'asr': 44100,\n",
       "  'format_note': '720p',\n",
       "  'fps': 24,\n",
       "  'audio_channels': 2,\n",
       "  'height': 720,\n",
       "  'tbr': 372.858,\n",
       "  'width': 1280,\n",
       "  'ext': 'mp4',\n",
       "  'vcodec': 'avc1.64001F',\n",
       "  'acodec': 'mp4a.40.2',\n",
       "  'format': '22 - 1280x720 (720p)',\n",
       "  'protocol': 'https',\n",
       "  'http_headers': {'User-Agent': 'Mozilla/5.0 (Windows NT 10.0; Win64; x64) AppleWebKit/537.36 (KHTML, like Gecko) Chrome/70.0.3513.0 Safari/537.36',\n",
       "   'Accept': 'text/html,application/xhtml+xml,application/xml;q=0.9,*/*;q=0.8',\n",
       "   'Accept-Language': 'en-us,en;q=0.5'}}]"
      ]
     },
     "execution_count": 19,
     "metadata": {},
     "output_type": "execute_result"
    }
   ],
   "source": [
    "formats"
   ]
  },
  {
   "cell_type": "code",
   "execution_count": 20,
   "metadata": {},
   "outputs": [
    {
     "data": {
      "text/plain": [
       "[{'extension': 'm4a',\n",
       "  'video_format': '140-drc - audio only (audio_quality_medium)',\n",
       "  'url': 'https://rr2---sn-gwpa-qxael.googlevideo.com/videoplayback?expire=1715544182&ei=FsxAZuu7I5q_vcAPwe29wAk&ip=2405%3A201%3A404a%3A4019%3A70ee%3Af9bc%3Ab331%3A5167&id=o-AOlwk-HWhJd5lp1hKkUs9FfSxFWySIjvb1hV_fMPB8jA&itag=140&source=youtube&requiressl=yes&xpc=EgVo2aDSNQ%3D%3D&mh=wJ&mm=31%2C29&mn=sn-gwpa-qxael%2Csn-gwpa-qxay&ms=au%2Crdu&mv=m&mvi=2&pl=42&initcwndbps=695000&bui=AWRWj2Rg_ZL6uyzpIMunxYaAEJemm9i7USOCie-X2YCGiebC92wjv1XiJoFNfr1FY79rlNZWN2a7bVcU&spc=UWF9f6gpUuxh4tGvm-1W_bWw7upOcOUnTXQryDlS0o7EZmyYwy8n8-Q&vprv=1&svpuc=1&xtags=drc%3D1&mime=audio%2Fmp4&ns=xB7QQ9GLJbC3VTSR2jBKfcsQ&rqh=1&gir=yes&clen=3043447&dur=188.011&lmt=1677541483092440&mt=1715522214&fvip=1&keepalive=yes&c=WEB&sefc=1&txp=6211224&n=FKxQFXFnyfo2pQ&sparams=expire%2Cei%2Cip%2Cid%2Citag%2Csource%2Crequiressl%2Cxpc%2Cbui%2Cspc%2Cvprv%2Csvpuc%2Cxtags%2Cmime%2Cns%2Crqh%2Cgir%2Cclen%2Cdur%2Clmt&sig=AJfQdSswRQIhAJAGSOT7u8AVAGiJVEiDmEQELca2QpLxmTZPeuJnL3gWAiBJnI4qu7v2zIvlu9v7icnAN1RKxKa_UWuoUgC6WitCAA%3D%3D&lsparams=mh%2Cmm%2Cmn%2Cms%2Cmv%2Cmvi%2Cpl%2Cinitcwndbps&lsig=AHWaYeowRgIhANQwThWXJWLesNeuqDfE6Ed8crydo7XFUIqA2QO8nO9jAiEAjPEY-CKGDnYv2WePu7rga486nAjODy6VmHJylK451C4%3D'},\n",
       " {'extension': 'm4a',\n",
       "  'video_format': '140 - audio only (audio_quality_medium)',\n",
       "  'url': 'https://rr2---sn-gwpa-qxael.googlevideo.com/videoplayback?expire=1715544182&ei=FsxAZuu7I5q_vcAPwe29wAk&ip=2405%3A201%3A404a%3A4019%3A70ee%3Af9bc%3Ab331%3A5167&id=o-AOlwk-HWhJd5lp1hKkUs9FfSxFWySIjvb1hV_fMPB8jA&itag=140&source=youtube&requiressl=yes&xpc=EgVo2aDSNQ%3D%3D&mh=wJ&mm=31%2C29&mn=sn-gwpa-qxael%2Csn-gwpa-qxay&ms=au%2Crdu&mv=m&mvi=2&pl=42&initcwndbps=695000&bui=AWRWj2Rg_ZL6uyzpIMunxYaAEJemm9i7USOCie-X2YCGiebC92wjv1XiJoFNfr1FY79rlNZWN2a7bVcU&spc=UWF9f6gpUuxh4tGvm-1W_bWw7upOcOUnTXQryDlS0o7EZmyYwy8n8-Q&vprv=1&svpuc=1&mime=audio%2Fmp4&ns=xB7QQ9GLJbC3VTSR2jBKfcsQ&rqh=1&gir=yes&clen=3044198&dur=188.058&lmt=1677541483092388&mt=1715522214&fvip=1&keepalive=yes&c=WEB&sefc=1&txp=6211224&n=FKxQFXFnyfo2pQ&sparams=expire%2Cei%2Cip%2Cid%2Citag%2Csource%2Crequiressl%2Cxpc%2Cbui%2Cspc%2Cvprv%2Csvpuc%2Cmime%2Cns%2Crqh%2Cgir%2Cclen%2Cdur%2Clmt&sig=AJfQdSswRAIgasg3NoRC2rDGoqWlRxt5kvnaN39bI92PWCvCkoCJlwYCICRwmNBFLC6mYM3UPXADGm4v4FGNU-pqt8MIIppJ45gh&lsparams=mh%2Cmm%2Cmn%2Cms%2Cmv%2Cmvi%2Cpl%2Cinitcwndbps&lsig=AHWaYeowRgIhANQwThWXJWLesNeuqDfE6Ed8crydo7XFUIqA2QO8nO9jAiEAjPEY-CKGDnYv2WePu7rga486nAjODy6VmHJylK451C4%3D'},\n",
       " {'extension': 'webm',\n",
       "  'video_format': '251 - audio only (audio_quality_medium)',\n",
       "  'url': 'https://rr2---sn-gwpa-qxael.googlevideo.com/videoplayback?expire=1715544182&ei=FsxAZuu7I5q_vcAPwe29wAk&ip=2405%3A201%3A404a%3A4019%3A70ee%3Af9bc%3Ab331%3A5167&id=o-AOlwk-HWhJd5lp1hKkUs9FfSxFWySIjvb1hV_fMPB8jA&itag=251&source=youtube&requiressl=yes&xpc=EgVo2aDSNQ%3D%3D&mh=wJ&mm=31%2C29&mn=sn-gwpa-qxael%2Csn-gwpa-qxay&ms=au%2Crdu&mv=m&mvi=2&pl=42&initcwndbps=695000&bui=AWRWj2Rg_ZL6uyzpIMunxYaAEJemm9i7USOCie-X2YCGiebC92wjv1XiJoFNfr1FY79rlNZWN2a7bVcU&spc=UWF9f6gpUuxh4tGvm-1W_bWw7upOcOUnTXQryDlS0o7EZmyYwy8n8-Q&vprv=1&svpuc=1&mime=audio%2Fwebm&ns=xB7QQ9GLJbC3VTSR2jBKfcsQ&rqh=1&gir=yes&clen=3598163&dur=187.981&lmt=1587566285564466&mt=1715522214&fvip=1&keepalive=yes&c=WEB&sefc=1&txp=6211222&n=FKxQFXFnyfo2pQ&sparams=expire%2Cei%2Cip%2Cid%2Citag%2Csource%2Crequiressl%2Cxpc%2Cbui%2Cspc%2Cvprv%2Csvpuc%2Cmime%2Cns%2Crqh%2Cgir%2Cclen%2Cdur%2Clmt&sig=AJfQdSswRQIhALWmILl4VtHkMviWzcJLW32UovtwD3A72JiZyKZcqxl9AiAs4NPL_HCIJUWfgRPpFNKG0Wu2Vh9jKzACk5kATCT0fQ%3D%3D&lsparams=mh%2Cmm%2Cmn%2Cms%2Cmv%2Cmvi%2Cpl%2Cinitcwndbps&lsig=AHWaYeowRgIhANQwThWXJWLesNeuqDfE6Ed8crydo7XFUIqA2QO8nO9jAiEAjPEY-CKGDnYv2WePu7rga486nAjODy6VmHJylK451C4%3D'},\n",
       " {'extension': 'webm',\n",
       "  'video_format': '251-drc - audio only (audio_quality_medium)',\n",
       "  'url': 'https://rr2---sn-gwpa-qxael.googlevideo.com/videoplayback?expire=1715544182&ei=FsxAZuu7I5q_vcAPwe29wAk&ip=2405%3A201%3A404a%3A4019%3A70ee%3Af9bc%3Ab331%3A5167&id=o-AOlwk-HWhJd5lp1hKkUs9FfSxFWySIjvb1hV_fMPB8jA&itag=251&source=youtube&requiressl=yes&xpc=EgVo2aDSNQ%3D%3D&mh=wJ&mm=31%2C29&mn=sn-gwpa-qxael%2Csn-gwpa-qxay&ms=au%2Crdu&mv=m&mvi=2&pl=42&initcwndbps=695000&bui=AWRWj2Rg_ZL6uyzpIMunxYaAEJemm9i7USOCie-X2YCGiebC92wjv1XiJoFNfr1FY79rlNZWN2a7bVcU&spc=UWF9f6gpUuxh4tGvm-1W_bWw7upOcOUnTXQryDlS0o7EZmyYwy8n8-Q&vprv=1&svpuc=1&xtags=drc%3D1&mime=audio%2Fwebm&ns=xB7QQ9GLJbC3VTSR2jBKfcsQ&rqh=1&gir=yes&clen=3598384&dur=187.981&lmt=1665216608319052&mt=1715522214&fvip=1&keepalive=yes&c=WEB&sefc=1&txp=6211224&n=FKxQFXFnyfo2pQ&sparams=expire%2Cei%2Cip%2Cid%2Citag%2Csource%2Crequiressl%2Cxpc%2Cbui%2Cspc%2Cvprv%2Csvpuc%2Cxtags%2Cmime%2Cns%2Crqh%2Cgir%2Cclen%2Cdur%2Clmt&sig=AJfQdSswRQIgGm7-N2hoG2r12HhTnhtxqKHElmNvNIcMlc7D65g0VW4CIQCGBh0kGIiy_dCc-BaWhni_gjEMRCnPaaJUXSP3iQ3xNQ%3D%3D&lsparams=mh%2Cmm%2Cmn%2Cms%2Cmv%2Cmvi%2Cpl%2Cinitcwndbps&lsig=AHWaYeowRgIhANQwThWXJWLesNeuqDfE6Ed8crydo7XFUIqA2QO8nO9jAiEAjPEY-CKGDnYv2WePu7rga486nAjODy6VmHJylK451C4%3D'},\n",
       " {'extension': 'mp4',\n",
       "  'video_format': '160 - 256x144 (144p)',\n",
       "  'url': 'https://rr2---sn-gwpa-qxael.googlevideo.com/videoplayback?expire=1715544182&ei=FsxAZuu7I5q_vcAPwe29wAk&ip=2405%3A201%3A404a%3A4019%3A70ee%3Af9bc%3Ab331%3A5167&id=o-AOlwk-HWhJd5lp1hKkUs9FfSxFWySIjvb1hV_fMPB8jA&itag=160&aitags=134%2C136%2C160&source=youtube&requiressl=yes&xpc=EgVo2aDSNQ%3D%3D&mh=wJ&mm=31%2C29&mn=sn-gwpa-qxael%2Csn-gwpa-qxay&ms=au%2Crdu&mv=m&mvi=2&pl=42&initcwndbps=695000&bui=AWRWj2Rg_ZL6uyzpIMunxYaAEJemm9i7USOCie-X2YCGiebC92wjv1XiJoFNfr1FY79rlNZWN2a7bVcU&spc=UWF9f6gpUuxh4tGvm-1W_bWw7upOcOUnTXQryDlS0o7EZmyYwy8n8-Q&vprv=1&svpuc=1&mime=video%2Fmp4&ns=xB7QQ9GLJbC3VTSR2jBKfcsQ&rqh=1&gir=yes&clen=619794&dur=187.999&lmt=1677542100227579&mt=1715522214&fvip=1&keepalive=yes&c=WEB&sefc=1&txp=6216224&n=FKxQFXFnyfo2pQ&sparams=expire%2Cei%2Cip%2Cid%2Caitags%2Csource%2Crequiressl%2Cxpc%2Cbui%2Cspc%2Cvprv%2Csvpuc%2Cmime%2Cns%2Crqh%2Cgir%2Cclen%2Cdur%2Clmt&sig=AJfQdSswRgIhAKyowpFSpCG-4tuIwso_ZskQirXEj3KnUPyDKQ-6bNcuAiEA6KXTJQRFzeZ5GslFWPwu78kZWfQAAd_gsHh6Pj8LJg8%3D&lsparams=mh%2Cmm%2Cmn%2Cms%2Cmv%2Cmvi%2Cpl%2Cinitcwndbps&lsig=AHWaYeowRgIhANQwThWXJWLesNeuqDfE6Ed8crydo7XFUIqA2QO8nO9jAiEAjPEY-CKGDnYv2WePu7rga486nAjODy6VmHJylK451C4%3D'},\n",
       " {'extension': 'mp4',\n",
       "  'video_format': '134 - 640x360 (360p)',\n",
       "  'url': 'https://rr2---sn-gwpa-qxael.googlevideo.com/videoplayback?expire=1715544182&ei=FsxAZuu7I5q_vcAPwe29wAk&ip=2405%3A201%3A404a%3A4019%3A70ee%3Af9bc%3Ab331%3A5167&id=o-AOlwk-HWhJd5lp1hKkUs9FfSxFWySIjvb1hV_fMPB8jA&itag=134&aitags=134%2C136%2C160&source=youtube&requiressl=yes&xpc=EgVo2aDSNQ%3D%3D&mh=wJ&mm=31%2C29&mn=sn-gwpa-qxael%2Csn-gwpa-qxay&ms=au%2Crdu&mv=m&mvi=2&pl=42&initcwndbps=695000&bui=AWRWj2Rg_ZL6uyzpIMunxYaAEJemm9i7USOCie-X2YCGiebC92wjv1XiJoFNfr1FY79rlNZWN2a7bVcU&spc=UWF9f6gpUuxh4tGvm-1W_bWw7upOcOUnTXQryDlS0o7EZmyYwy8n8-Q&vprv=1&svpuc=1&mime=video%2Fmp4&ns=xB7QQ9GLJbC3VTSR2jBKfcsQ&rqh=1&gir=yes&clen=1963249&dur=187.999&lmt=1677542097501000&mt=1715522214&fvip=1&keepalive=yes&c=WEB&sefc=1&txp=6216224&n=FKxQFXFnyfo2pQ&sparams=expire%2Cei%2Cip%2Cid%2Caitags%2Csource%2Crequiressl%2Cxpc%2Cbui%2Cspc%2Cvprv%2Csvpuc%2Cmime%2Cns%2Crqh%2Cgir%2Cclen%2Cdur%2Clmt&sig=AJfQdSswRAIgG6pHrP_Jl76uHWd58Qw4oJAqhSY6Q9raFEJFA6gluugCIC_oThOZBOLVSCz0hnRfxD_4YwWxdUm3O2uF6t_QLPNm&lsparams=mh%2Cmm%2Cmn%2Cms%2Cmv%2Cmvi%2Cpl%2Cinitcwndbps&lsig=AHWaYeowRgIhANQwThWXJWLesNeuqDfE6Ed8crydo7XFUIqA2QO8nO9jAiEAjPEY-CKGDnYv2WePu7rga486nAjODy6VmHJylK451C4%3D'},\n",
       " {'extension': 'mp4',\n",
       "  'video_format': '136 - 1280x720 (720p)',\n",
       "  'url': 'https://rr2---sn-gwpa-qxael.googlevideo.com/videoplayback?expire=1715544182&ei=FsxAZuu7I5q_vcAPwe29wAk&ip=2405%3A201%3A404a%3A4019%3A70ee%3Af9bc%3Ab331%3A5167&id=o-AOlwk-HWhJd5lp1hKkUs9FfSxFWySIjvb1hV_fMPB8jA&itag=136&aitags=134%2C136%2C160&source=youtube&requiressl=yes&xpc=EgVo2aDSNQ%3D%3D&mh=wJ&mm=31%2C29&mn=sn-gwpa-qxael%2Csn-gwpa-qxay&ms=au%2Crdu&mv=m&mvi=2&pl=42&initcwndbps=695000&bui=AWRWj2Rg_ZL6uyzpIMunxYaAEJemm9i7USOCie-X2YCGiebC92wjv1XiJoFNfr1FY79rlNZWN2a7bVcU&spc=UWF9f6gpUuxh4tGvm-1W_bWw7upOcOUnTXQryDlS0o7EZmyYwy8n8-Q&vprv=1&svpuc=1&mime=video%2Fmp4&ns=xB7QQ9GLJbC3VTSR2jBKfcsQ&rqh=1&gir=yes&clen=5745512&dur=187.999&lmt=1677542096512303&mt=1715522214&fvip=1&keepalive=yes&c=WEB&sefc=1&txp=6216224&n=FKxQFXFnyfo2pQ&sparams=expire%2Cei%2Cip%2Cid%2Caitags%2Csource%2Crequiressl%2Cxpc%2Cbui%2Cspc%2Cvprv%2Csvpuc%2Cmime%2Cns%2Crqh%2Cgir%2Cclen%2Cdur%2Clmt&sig=AJfQdSswRQIgQgHTzvHUQ6_6NKOXP5fjqYwueFvkLX4c1VIRIsvQHm8CIQDhm3-23JUqJdJRiYZbHExPLui9gubu7p4AYW-husmZZg%3D%3D&lsparams=mh%2Cmm%2Cmn%2Cms%2Cmv%2Cmvi%2Cpl%2Cinitcwndbps&lsig=AHWaYeowRgIhANQwThWXJWLesNeuqDfE6Ed8crydo7XFUIqA2QO8nO9jAiEAjPEY-CKGDnYv2WePu7rga486nAjODy6VmHJylK451C4%3D'},\n",
       " {'extension': 'mp4',\n",
       "  'video_format': '18 - 640x360 (360p)',\n",
       "  'url': 'https://rr2---sn-gwpa-qxael.googlevideo.com/videoplayback?expire=1715544182&ei=FsxAZuu7I5q_vcAPwe29wAk&ip=2405%3A201%3A404a%3A4019%3A70ee%3Af9bc%3Ab331%3A5167&id=o-AOlwk-HWhJd5lp1hKkUs9FfSxFWySIjvb1hV_fMPB8jA&itag=18&source=youtube&requiressl=yes&xpc=EgVo2aDSNQ%3D%3D&mh=wJ&mm=31%2C29&mn=sn-gwpa-qxael%2Csn-gwpa-qxay&ms=au%2Crdu&mv=m&mvi=2&pl=42&initcwndbps=695000&bui=AWRWj2Spus4sfPYxIonxzmlCsqhjjviZat9saPhJv8g1ZkDX5WTQTEUaCt4ngSwaeRGepc_cfmk7rLgg&spc=UWF9f6gpUuxh4tGvm-1W_bWw7upOcOUnTXQryDlS0o7EZmyYwy8n8-Q&vprv=1&svpuc=1&mime=video%2Fmp4&ns=befFby6_rBVem3YcHco3unkQ&rqh=1&cnr=14&ratebypass=yes&dur=188.058&lmt=1677542099504146&mt=1715522214&fvip=1&c=WEB&sefc=1&txp=6219224&n=KDmxpaae5o7blw&sparams=expire%2Cei%2Cip%2Cid%2Citag%2Csource%2Crequiressl%2Cxpc%2Cbui%2Cspc%2Cvprv%2Csvpuc%2Cmime%2Cns%2Crqh%2Ccnr%2Cratebypass%2Cdur%2Clmt&sig=AJfQdSswRQIgRehK-ZkdJdb91dzji7AWG8e7xLT0Vtt4PnvRFVep-PkCIQC9vEmQK_AvVlkQDq1vEHf1YOBbUmLOvJ5m-Ewp3474_A%3D%3D&lsparams=mh%2Cmm%2Cmn%2Cms%2Cmv%2Cmvi%2Cpl%2Cinitcwndbps&lsig=AHWaYeowRgIhANQwThWXJWLesNeuqDfE6Ed8crydo7XFUIqA2QO8nO9jAiEAjPEY-CKGDnYv2WePu7rga486nAjODy6VmHJylK451C4%3D'},\n",
       " {'extension': 'mp4',\n",
       "  'video_format': '22 - 1280x720 (720p)',\n",
       "  'url': 'https://rr2---sn-gwpa-qxael.googlevideo.com/videoplayback?expire=1715544182&ei=FsxAZuu7I5q_vcAPwe29wAk&ip=2405%3A201%3A404a%3A4019%3A70ee%3Af9bc%3Ab331%3A5167&id=o-AOlwk-HWhJd5lp1hKkUs9FfSxFWySIjvb1hV_fMPB8jA&itag=22&source=youtube&requiressl=yes&xpc=EgVo2aDSNQ%3D%3D&mh=wJ&mm=31%2C29&mn=sn-gwpa-qxael%2Csn-gwpa-qxay&ms=au%2Crdu&mv=m&mvi=2&pl=42&initcwndbps=695000&bui=AWRWj2Spus4sfPYxIonxzmlCsqhjjviZat9saPhJv8g1ZkDX5WTQTEUaCt4ngSwaeRGepc_cfmk7rLgg&spc=UWF9f6gpUuxh4tGvm-1W_bWw7upOcOUnTXQryDlS0o7EZmyYwy8n8-Q&vprv=1&svpuc=1&mime=video%2Fmp4&ns=befFby6_rBVem3YcHco3unkQ&rqh=1&cnr=14&ratebypass=yes&dur=188.058&lmt=1677542098560152&mt=1715522214&fvip=1&c=WEB&sefc=1&txp=6211224&n=KDmxpaae5o7blw&sparams=expire%2Cei%2Cip%2Cid%2Citag%2Csource%2Crequiressl%2Cxpc%2Cbui%2Cspc%2Cvprv%2Csvpuc%2Cmime%2Cns%2Crqh%2Ccnr%2Cratebypass%2Cdur%2Clmt&sig=AJfQdSswRgIhAI4P73tr00I5cyCoODRSTewFNXAu_GSEZinAyIrMvVlDAiEAgbPaonI4EEZk1woePkvNkwOkbsL16elDrsP16pGnxDs%3D&lsparams=mh%2Cmm%2Cmn%2Cms%2Cmv%2Cmvi%2Cpl%2Cinitcwndbps&lsig=AHWaYeowRgIhANQwThWXJWLesNeuqDfE6Ed8crydo7XFUIqA2QO8nO9jAiEAjPEY-CKGDnYv2WePu7rga486nAjODy6VmHJylK451C4%3D'}]"
      ]
     },
     "execution_count": 20,
     "metadata": {},
     "output_type": "execute_result"
    }
   ],
   "source": [
    "all_formats"
   ]
  },
  {
   "cell_type": "code",
   "execution_count": 1,
   "metadata": {},
   "outputs": [
    {
     "data": {
      "text/plain": [
       "{'title': 'Anuv Jain - HUSN (Lyrics) [1HOUR]',\n",
       " 'thumbnail': 'https://i.ytimg.com/vi_webp/P838MAC3wJc/maxresdefault.webp',\n",
       " 'formats': [{'extension': 'webm',\n",
       "   'video_format': '249 - audio only (audio_quality_low)',\n",
       "   'url': 'https://rr2---sn-gwpa-qxaee.googlevideo.com/videoplayback?expire=1715544312&ei=mMxAZonSM6a4rtoPuPq04AU&ip=2405%3A201%3A404a%3A4019%3A70ee%3Af9bc%3Ab331%3A5167&id=o-AOJ3lwon2FTmI_vNGPkoQmJvbeBAepVqeZTGMe4muxMk&itag=249&source=youtube&requiressl=yes&xpc=EgVo2aDSNQ%3D%3D&mh=KD&mm=31%2C29&mn=sn-gwpa-qxaee%2Csn-gwpa-qxae7&ms=au%2Crdu&mv=m&mvi=2&pl=42&gcr=in&initcwndbps=715000&bui=AWRWj2SAbo5oWfYBEdpRYapwVTTAaNCtdfeN90Jvvi-GdxVUX7vCX3lytSVLEomQj1ftQwxbsLBaij2f&spc=UWF9f1DdRQU-xM74o2T1wUf0ARAVO2o4hhF6nd6skm6g25I9NfXuMz0&vprv=1&svpuc=1&mime=audio%2Fwebm&ns=MFOfPWsDMZfmAAZGWf25x_oQ&rqh=1&gir=yes&clen=23911521&dur=3690.541&lmt=1715440731543921&mt=1715522448&fvip=5&keepalive=yes&c=WEB&sefc=1&txp=3308224&n=NO1HWPwHEaxY8Q&sparams=expire%2Cei%2Cip%2Cid%2Citag%2Csource%2Crequiressl%2Cxpc%2Cgcr%2Cbui%2Cspc%2Cvprv%2Csvpuc%2Cmime%2Cns%2Crqh%2Cgir%2Cclen%2Cdur%2Clmt&lsparams=mh%2Cmm%2Cmn%2Cms%2Cmv%2Cmvi%2Cpl%2Cinitcwndbps&lsig=AHWaYeowRAIgPk0rRXdQyq6DZA0LU08eIFAayWVukk6vMWF9q8Gr6eoCIGK_KPV8xa7XxqBu38cebg6LPJe1gy2PEJ93wSpcm4BC&sig=AJfQdSswRQIgMYqDuLT88Zd3O0XjyBXTra0jL2Xs3FjYZHdDoDvjy6gCIQDwAhHwJ625ir7_HS_GloBZrRxx7JCBKJ-FyLTmRSUZlw%3D%3D'},\n",
       "  {'extension': 'webm',\n",
       "   'video_format': '250 - audio only (audio_quality_low)',\n",
       "   'url': 'https://rr2---sn-gwpa-qxaee.googlevideo.com/videoplayback?expire=1715544312&ei=mMxAZonSM6a4rtoPuPq04AU&ip=2405%3A201%3A404a%3A4019%3A70ee%3Af9bc%3Ab331%3A5167&id=o-AOJ3lwon2FTmI_vNGPkoQmJvbeBAepVqeZTGMe4muxMk&itag=250&source=youtube&requiressl=yes&xpc=EgVo2aDSNQ%3D%3D&mh=KD&mm=31%2C29&mn=sn-gwpa-qxaee%2Csn-gwpa-qxae7&ms=au%2Crdu&mv=m&mvi=2&pl=42&gcr=in&initcwndbps=715000&bui=AWRWj2SAbo5oWfYBEdpRYapwVTTAaNCtdfeN90Jvvi-GdxVUX7vCX3lytSVLEomQj1ftQwxbsLBaij2f&spc=UWF9f1DdRQU-xM74o2T1wUf0ARAVO2o4hhF6nd6skm6g25I9NfXuMz0&vprv=1&svpuc=1&mime=audio%2Fwebm&ns=MFOfPWsDMZfmAAZGWf25x_oQ&rqh=1&gir=yes&clen=31605192&dur=3690.541&lmt=1715440731585189&mt=1715522448&fvip=5&keepalive=yes&c=WEB&sefc=1&txp=3308224&n=NO1HWPwHEaxY8Q&sparams=expire%2Cei%2Cip%2Cid%2Citag%2Csource%2Crequiressl%2Cxpc%2Cgcr%2Cbui%2Cspc%2Cvprv%2Csvpuc%2Cmime%2Cns%2Crqh%2Cgir%2Cclen%2Cdur%2Clmt&lsparams=mh%2Cmm%2Cmn%2Cms%2Cmv%2Cmvi%2Cpl%2Cinitcwndbps&lsig=AHWaYeowRAIgPk0rRXdQyq6DZA0LU08eIFAayWVukk6vMWF9q8Gr6eoCIGK_KPV8xa7XxqBu38cebg6LPJe1gy2PEJ93wSpcm4BC&sig=AJfQdSswRQIhAKyoZT7ZBWWEaGzqLtIdhwyj94JT4bJPfI9FtnCOsPOXAiB0wfXbTk8u4FX30rhiDY1FXhoALPDfOZ-TSqTW4uClVg%3D%3D'},\n",
       "  {'extension': 'm4a',\n",
       "   'video_format': '140 - audio only (audio_quality_medium)',\n",
       "   'url': 'https://rr2---sn-gwpa-qxaee.googlevideo.com/videoplayback?expire=1715544312&ei=mMxAZonSM6a4rtoPuPq04AU&ip=2405%3A201%3A404a%3A4019%3A70ee%3Af9bc%3Ab331%3A5167&id=o-AOJ3lwon2FTmI_vNGPkoQmJvbeBAepVqeZTGMe4muxMk&itag=140&source=youtube&requiressl=yes&xpc=EgVo2aDSNQ%3D%3D&mh=KD&mm=31%2C29&mn=sn-gwpa-qxaee%2Csn-gwpa-qxae7&ms=au%2Crdu&mv=m&mvi=2&pl=42&gcr=in&initcwndbps=715000&bui=AWRWj2SAbo5oWfYBEdpRYapwVTTAaNCtdfeN90Jvvi-GdxVUX7vCX3lytSVLEomQj1ftQwxbsLBaij2f&spc=UWF9f1DdRQU-xM74o2T1wUf0ARAVO2o4hhF6nd6skm6g25I9NfXuMz0&vprv=1&svpuc=1&mime=audio%2Fmp4&ns=MFOfPWsDMZfmAAZGWf25x_oQ&rqh=1&gir=yes&clen=59728760&dur=3690.556&lmt=1715440579051368&mt=1715522448&fvip=5&keepalive=yes&c=WEB&sefc=1&txp=3308224&n=NO1HWPwHEaxY8Q&sparams=expire%2Cei%2Cip%2Cid%2Citag%2Csource%2Crequiressl%2Cxpc%2Cgcr%2Cbui%2Cspc%2Cvprv%2Csvpuc%2Cmime%2Cns%2Crqh%2Cgir%2Cclen%2Cdur%2Clmt&lsparams=mh%2Cmm%2Cmn%2Cms%2Cmv%2Cmvi%2Cpl%2Cinitcwndbps&lsig=AHWaYeowRAIgPk0rRXdQyq6DZA0LU08eIFAayWVukk6vMWF9q8Gr6eoCIGK_KPV8xa7XxqBu38cebg6LPJe1gy2PEJ93wSpcm4BC&sig=AJfQdSswRQIgZVTHt7d6ic48k1sFl1I6UbCZFhNzc5gsM9UAdV2lfqoCIQDnIOL_TE-YZYpQSKjbifJTs6qo5SMo69CaAzq3ldG3Zw%3D%3D'},\n",
       "  {'extension': 'webm',\n",
       "   'video_format': '251 - audio only (audio_quality_medium)',\n",
       "   'url': 'https://rr2---sn-gwpa-qxaee.googlevideo.com/videoplayback?expire=1715544312&ei=mMxAZonSM6a4rtoPuPq04AU&ip=2405%3A201%3A404a%3A4019%3A70ee%3Af9bc%3Ab331%3A5167&id=o-AOJ3lwon2FTmI_vNGPkoQmJvbeBAepVqeZTGMe4muxMk&itag=251&source=youtube&requiressl=yes&xpc=EgVo2aDSNQ%3D%3D&mh=KD&mm=31%2C29&mn=sn-gwpa-qxaee%2Csn-gwpa-qxae7&ms=au%2Crdu&mv=m&mvi=2&pl=42&gcr=in&initcwndbps=715000&bui=AWRWj2SAbo5oWfYBEdpRYapwVTTAaNCtdfeN90Jvvi-GdxVUX7vCX3lytSVLEomQj1ftQwxbsLBaij2f&spc=UWF9f1DdRQU-xM74o2T1wUf0ARAVO2o4hhF6nd6skm6g25I9NfXuMz0&vprv=1&svpuc=1&mime=audio%2Fwebm&ns=MFOfPWsDMZfmAAZGWf25x_oQ&rqh=1&gir=yes&clen=61578613&dur=3690.541&lmt=1715440731543017&mt=1715522448&fvip=5&keepalive=yes&c=WEB&sefc=1&txp=3308224&n=NO1HWPwHEaxY8Q&sparams=expire%2Cei%2Cip%2Cid%2Citag%2Csource%2Crequiressl%2Cxpc%2Cgcr%2Cbui%2Cspc%2Cvprv%2Csvpuc%2Cmime%2Cns%2Crqh%2Cgir%2Cclen%2Cdur%2Clmt&lsparams=mh%2Cmm%2Cmn%2Cms%2Cmv%2Cmvi%2Cpl%2Cinitcwndbps&lsig=AHWaYeowRAIgPk0rRXdQyq6DZA0LU08eIFAayWVukk6vMWF9q8Gr6eoCIGK_KPV8xa7XxqBu38cebg6LPJe1gy2PEJ93wSpcm4BC&sig=AJfQdSswRAIgTXuuB-4rodD-3HU4eEgiscQtFKQKiBxRMDJ-RkpPVsUCIFP5R1qdTATULtaPEchUu0-9zzgdVzKk2ARsBy0PtuII'},\n",
       "  {'extension': 'webm',\n",
       "   'video_format': '278 - 256x144 (144p)',\n",
       "   'url': 'https://rr2---sn-gwpa-qxaee.googlevideo.com/videoplayback?expire=1715544312&ei=mMxAZonSM6a4rtoPuPq04AU&ip=2405%3A201%3A404a%3A4019%3A70ee%3Af9bc%3Ab331%3A5167&id=o-AOJ3lwon2FTmI_vNGPkoQmJvbeBAepVqeZTGMe4muxMk&itag=278&aitags=133%2C134%2C135%2C136%2C160%2C242%2C243%2C244%2C247%2C278%2C298%2C299%2C302%2C303&source=youtube&requiressl=yes&xpc=EgVo2aDSNQ%3D%3D&mh=KD&mm=31%2C29&mn=sn-gwpa-qxaee%2Csn-gwpa-qxae7&ms=au%2Crdu&mv=m&mvi=2&pl=42&gcr=in&initcwndbps=715000&bui=AWRWj2SAbo5oWfYBEdpRYapwVTTAaNCtdfeN90Jvvi-GdxVUX7vCX3lytSVLEomQj1ftQwxbsLBaij2f&spc=UWF9f1DdRQU-xM74o2T1wUf0ARAVO2o4hhF6nd6skm6g25I9NfXuMz0&vprv=1&svpuc=1&mime=video%2Fwebm&ns=MFOfPWsDMZfmAAZGWf25x_oQ&rqh=1&gir=yes&clen=13736864&dur=3690.500&lmt=1715440466463115&mt=1715522448&fvip=5&keepalive=yes&c=WEB&sefc=1&txp=330F224&n=NO1HWPwHEaxY8Q&sparams=expire%2Cei%2Cip%2Cid%2Caitags%2Csource%2Crequiressl%2Cxpc%2Cgcr%2Cbui%2Cspc%2Cvprv%2Csvpuc%2Cmime%2Cns%2Crqh%2Cgir%2Cclen%2Cdur%2Clmt&lsparams=mh%2Cmm%2Cmn%2Cms%2Cmv%2Cmvi%2Cpl%2Cinitcwndbps&lsig=AHWaYeowRAIgPk0rRXdQyq6DZA0LU08eIFAayWVukk6vMWF9q8Gr6eoCIGK_KPV8xa7XxqBu38cebg6LPJe1gy2PEJ93wSpcm4BC&sig=AJfQdSswRAIgUbvnH1iJxHlu0FL_Pjb1jC_D017Bac05GsrLExi74Y4CIE8AUC5JmxKeeNxIxGdBkharUI36zo3JJxgMXvwt0IzD'},\n",
       "  {'extension': 'mp4',\n",
       "   'video_format': '160 - 256x144 (144p)',\n",
       "   'url': 'https://rr2---sn-gwpa-qxaee.googlevideo.com/videoplayback?expire=1715544312&ei=mMxAZonSM6a4rtoPuPq04AU&ip=2405%3A201%3A404a%3A4019%3A70ee%3Af9bc%3Ab331%3A5167&id=o-AOJ3lwon2FTmI_vNGPkoQmJvbeBAepVqeZTGMe4muxMk&itag=160&aitags=133%2C134%2C135%2C136%2C160%2C242%2C243%2C244%2C247%2C278%2C298%2C299%2C302%2C303&source=youtube&requiressl=yes&xpc=EgVo2aDSNQ%3D%3D&mh=KD&mm=31%2C29&mn=sn-gwpa-qxaee%2Csn-gwpa-qxae7&ms=au%2Crdu&mv=m&mvi=2&pl=42&gcr=in&initcwndbps=715000&bui=AWRWj2SAbo5oWfYBEdpRYapwVTTAaNCtdfeN90Jvvi-GdxVUX7vCX3lytSVLEomQj1ftQwxbsLBaij2f&spc=UWF9f1DdRQU-xM74o2T1wUf0ARAVO2o4hhF6nd6skm6g25I9NfXuMz0&vprv=1&svpuc=1&mime=video%2Fmp4&ns=MFOfPWsDMZfmAAZGWf25x_oQ&rqh=1&gir=yes&clen=14505862&dur=3690.500&lmt=1715440619977959&mt=1715522448&fvip=5&keepalive=yes&c=WEB&sefc=1&txp=3309224&n=NO1HWPwHEaxY8Q&sparams=expire%2Cei%2Cip%2Cid%2Caitags%2Csource%2Crequiressl%2Cxpc%2Cgcr%2Cbui%2Cspc%2Cvprv%2Csvpuc%2Cmime%2Cns%2Crqh%2Cgir%2Cclen%2Cdur%2Clmt&lsparams=mh%2Cmm%2Cmn%2Cms%2Cmv%2Cmvi%2Cpl%2Cinitcwndbps&lsig=AHWaYeowRAIgPk0rRXdQyq6DZA0LU08eIFAayWVukk6vMWF9q8Gr6eoCIGK_KPV8xa7XxqBu38cebg6LPJe1gy2PEJ93wSpcm4BC&sig=AJfQdSswRQIgHpSvfaeEX6btqKb77wWeBb3GJ0C4MVv_khGsOACppm8CIQCNMZryjnaK70bWkqYpkEVxZpRWpWHmQe9YJtoFzcb10w%3D%3D'},\n",
       "  {'extension': 'webm',\n",
       "   'video_format': '242 - 426x240 (240p)',\n",
       "   'url': 'https://rr2---sn-gwpa-qxaee.googlevideo.com/videoplayback?expire=1715544312&ei=mMxAZonSM6a4rtoPuPq04AU&ip=2405%3A201%3A404a%3A4019%3A70ee%3Af9bc%3Ab331%3A5167&id=o-AOJ3lwon2FTmI_vNGPkoQmJvbeBAepVqeZTGMe4muxMk&itag=242&aitags=133%2C134%2C135%2C136%2C160%2C242%2C243%2C244%2C247%2C278%2C298%2C299%2C302%2C303&source=youtube&requiressl=yes&xpc=EgVo2aDSNQ%3D%3D&mh=KD&mm=31%2C29&mn=sn-gwpa-qxaee%2Csn-gwpa-qxae7&ms=au%2Crdu&mv=m&mvi=2&pl=42&gcr=in&initcwndbps=715000&bui=AWRWj2SAbo5oWfYBEdpRYapwVTTAaNCtdfeN90Jvvi-GdxVUX7vCX3lytSVLEomQj1ftQwxbsLBaij2f&spc=UWF9f1DdRQU-xM74o2T1wUf0ARAVO2o4hhF6nd6skm6g25I9NfXuMz0&vprv=1&svpuc=1&mime=video%2Fwebm&ns=MFOfPWsDMZfmAAZGWf25x_oQ&rqh=1&gir=yes&clen=18350885&dur=3690.500&lmt=1715440463724652&mt=1715522448&fvip=5&keepalive=yes&c=WEB&sefc=1&txp=330F224&n=NO1HWPwHEaxY8Q&sparams=expire%2Cei%2Cip%2Cid%2Caitags%2Csource%2Crequiressl%2Cxpc%2Cgcr%2Cbui%2Cspc%2Cvprv%2Csvpuc%2Cmime%2Cns%2Crqh%2Cgir%2Cclen%2Cdur%2Clmt&lsparams=mh%2Cmm%2Cmn%2Cms%2Cmv%2Cmvi%2Cpl%2Cinitcwndbps&lsig=AHWaYeowRAIgPk0rRXdQyq6DZA0LU08eIFAayWVukk6vMWF9q8Gr6eoCIGK_KPV8xa7XxqBu38cebg6LPJe1gy2PEJ93wSpcm4BC&sig=AJfQdSswRQIhAIGAv0kmIcHD4tbew5SmY0EqiU9yelLw224ix3jcBQ8rAiB9xnS4PKkSZI2Wdmw3-8zZJBgKxdoRm6WvLOBPxNryGA%3D%3D'},\n",
       "  {'extension': 'mp4',\n",
       "   'video_format': '133 - 426x240 (240p)',\n",
       "   'url': 'https://rr2---sn-gwpa-qxaee.googlevideo.com/videoplayback?expire=1715544312&ei=mMxAZonSM6a4rtoPuPq04AU&ip=2405%3A201%3A404a%3A4019%3A70ee%3Af9bc%3Ab331%3A5167&id=o-AOJ3lwon2FTmI_vNGPkoQmJvbeBAepVqeZTGMe4muxMk&itag=133&aitags=133%2C134%2C135%2C136%2C160%2C242%2C243%2C244%2C247%2C278%2C298%2C299%2C302%2C303&source=youtube&requiressl=yes&xpc=EgVo2aDSNQ%3D%3D&mh=KD&mm=31%2C29&mn=sn-gwpa-qxaee%2Csn-gwpa-qxae7&ms=au%2Crdu&mv=m&mvi=2&pl=42&gcr=in&initcwndbps=715000&bui=AWRWj2SAbo5oWfYBEdpRYapwVTTAaNCtdfeN90Jvvi-GdxVUX7vCX3lytSVLEomQj1ftQwxbsLBaij2f&spc=UWF9f1DdRQU-xM74o2T1wUf0ARAVO2o4hhF6nd6skm6g25I9NfXuMz0&vprv=1&svpuc=1&mime=video%2Fmp4&ns=MFOfPWsDMZfmAAZGWf25x_oQ&rqh=1&gir=yes&clen=24876201&dur=3690.500&lmt=1715440443977927&mt=1715522448&fvip=5&keepalive=yes&c=WEB&sefc=1&txp=3309224&n=NO1HWPwHEaxY8Q&sparams=expire%2Cei%2Cip%2Cid%2Caitags%2Csource%2Crequiressl%2Cxpc%2Cgcr%2Cbui%2Cspc%2Cvprv%2Csvpuc%2Cmime%2Cns%2Crqh%2Cgir%2Cclen%2Cdur%2Clmt&lsparams=mh%2Cmm%2Cmn%2Cms%2Cmv%2Cmvi%2Cpl%2Cinitcwndbps&lsig=AHWaYeowRAIgPk0rRXdQyq6DZA0LU08eIFAayWVukk6vMWF9q8Gr6eoCIGK_KPV8xa7XxqBu38cebg6LPJe1gy2PEJ93wSpcm4BC&sig=AJfQdSswRQIgMtT-qhmnylfGK6AZq-_21EfhzBI2VEoUZ3s1Si9oWRcCIQC6GVaIO83tnIh8qBlF-D7RlIRi-MMweKIebNWNX4yI_Q%3D%3D'},\n",
       "  {'extension': 'webm',\n",
       "   'video_format': '243 - 640x360 (360p)',\n",
       "   'url': 'https://rr2---sn-gwpa-qxaee.googlevideo.com/videoplayback?expire=1715544312&ei=mMxAZonSM6a4rtoPuPq04AU&ip=2405%3A201%3A404a%3A4019%3A70ee%3Af9bc%3Ab331%3A5167&id=o-AOJ3lwon2FTmI_vNGPkoQmJvbeBAepVqeZTGMe4muxMk&itag=243&aitags=133%2C134%2C135%2C136%2C160%2C242%2C243%2C244%2C247%2C278%2C298%2C299%2C302%2C303&source=youtube&requiressl=yes&xpc=EgVo2aDSNQ%3D%3D&mh=KD&mm=31%2C29&mn=sn-gwpa-qxaee%2Csn-gwpa-qxae7&ms=au%2Crdu&mv=m&mvi=2&pl=42&gcr=in&initcwndbps=715000&bui=AWRWj2SAbo5oWfYBEdpRYapwVTTAaNCtdfeN90Jvvi-GdxVUX7vCX3lytSVLEomQj1ftQwxbsLBaij2f&spc=UWF9f1DdRQU-xM74o2T1wUf0ARAVO2o4hhF6nd6skm6g25I9NfXuMz0&vprv=1&svpuc=1&mime=video%2Fwebm&ns=MFOfPWsDMZfmAAZGWf25x_oQ&rqh=1&gir=yes&clen=32678941&dur=3690.500&lmt=1715440496838669&mt=1715522448&fvip=5&keepalive=yes&c=WEB&sefc=1&txp=330F224&n=NO1HWPwHEaxY8Q&sparams=expire%2Cei%2Cip%2Cid%2Caitags%2Csource%2Crequiressl%2Cxpc%2Cgcr%2Cbui%2Cspc%2Cvprv%2Csvpuc%2Cmime%2Cns%2Crqh%2Cgir%2Cclen%2Cdur%2Clmt&lsparams=mh%2Cmm%2Cmn%2Cms%2Cmv%2Cmvi%2Cpl%2Cinitcwndbps&lsig=AHWaYeowRAIgPk0rRXdQyq6DZA0LU08eIFAayWVukk6vMWF9q8Gr6eoCIGK_KPV8xa7XxqBu38cebg6LPJe1gy2PEJ93wSpcm4BC&sig=AJfQdSswRQIgHt36dNOkWX7zSZjHW2oLtldhembd7vxwNLRUDTkKAtsCIQCl1f5IizsE4s-h4aeNnIsUW7elvurCyB2bcIASwiE_Jw%3D%3D'},\n",
       "  {'extension': 'mp4',\n",
       "   'video_format': '134 - 640x360 (360p)',\n",
       "   'url': 'https://rr2---sn-gwpa-qxaee.googlevideo.com/videoplayback?expire=1715544312&ei=mMxAZonSM6a4rtoPuPq04AU&ip=2405%3A201%3A404a%3A4019%3A70ee%3Af9bc%3Ab331%3A5167&id=o-AOJ3lwon2FTmI_vNGPkoQmJvbeBAepVqeZTGMe4muxMk&itag=134&aitags=133%2C134%2C135%2C136%2C160%2C242%2C243%2C244%2C247%2C278%2C298%2C299%2C302%2C303&source=youtube&requiressl=yes&xpc=EgVo2aDSNQ%3D%3D&mh=KD&mm=31%2C29&mn=sn-gwpa-qxaee%2Csn-gwpa-qxae7&ms=au%2Crdu&mv=m&mvi=2&pl=42&gcr=in&initcwndbps=715000&bui=AWRWj2SAbo5oWfYBEdpRYapwVTTAaNCtdfeN90Jvvi-GdxVUX7vCX3lytSVLEomQj1ftQwxbsLBaij2f&spc=UWF9f1DdRQU-xM74o2T1wUf0ARAVO2o4hhF6nd6skm6g25I9NfXuMz0&vprv=1&svpuc=1&mime=video%2Fmp4&ns=MFOfPWsDMZfmAAZGWf25x_oQ&rqh=1&gir=yes&clen=36432939&dur=3690.500&lmt=1715440732692815&mt=1715522448&fvip=5&keepalive=yes&c=WEB&sefc=1&txp=3309224&n=NO1HWPwHEaxY8Q&sparams=expire%2Cei%2Cip%2Cid%2Caitags%2Csource%2Crequiressl%2Cxpc%2Cgcr%2Cbui%2Cspc%2Cvprv%2Csvpuc%2Cmime%2Cns%2Crqh%2Cgir%2Cclen%2Cdur%2Clmt&lsparams=mh%2Cmm%2Cmn%2Cms%2Cmv%2Cmvi%2Cpl%2Cinitcwndbps&lsig=AHWaYeowRAIgPk0rRXdQyq6DZA0LU08eIFAayWVukk6vMWF9q8Gr6eoCIGK_KPV8xa7XxqBu38cebg6LPJe1gy2PEJ93wSpcm4BC&sig=AJfQdSswRAIgAVBMvR96T0i8ZJLrJ8Snn-WEYqCx8vsy3sKAEero8LwCIFga_NHt5ahWzEBG_pqZMJ080DWtXWAqTNCIIUNC0Be3'},\n",
       "  {'extension': 'webm',\n",
       "   'video_format': '244 - 854x480 (480p)',\n",
       "   'url': 'https://rr2---sn-gwpa-qxaee.googlevideo.com/videoplayback?expire=1715544312&ei=mMxAZonSM6a4rtoPuPq04AU&ip=2405%3A201%3A404a%3A4019%3A70ee%3Af9bc%3Ab331%3A5167&id=o-AOJ3lwon2FTmI_vNGPkoQmJvbeBAepVqeZTGMe4muxMk&itag=244&aitags=133%2C134%2C135%2C136%2C160%2C242%2C243%2C244%2C247%2C278%2C298%2C299%2C302%2C303&source=youtube&requiressl=yes&xpc=EgVo2aDSNQ%3D%3D&mh=KD&mm=31%2C29&mn=sn-gwpa-qxaee%2Csn-gwpa-qxae7&ms=au%2Crdu&mv=m&mvi=2&pl=42&gcr=in&initcwndbps=715000&bui=AWRWj2SAbo5oWfYBEdpRYapwVTTAaNCtdfeN90Jvvi-GdxVUX7vCX3lytSVLEomQj1ftQwxbsLBaij2f&spc=UWF9f1DdRQU-xM74o2T1wUf0ARAVO2o4hhF6nd6skm6g25I9NfXuMz0&vprv=1&svpuc=1&mime=video%2Fwebm&ns=MFOfPWsDMZfmAAZGWf25x_oQ&rqh=1&gir=yes&clen=46010405&dur=3690.500&lmt=1715440465872747&mt=1715522448&fvip=5&keepalive=yes&c=WEB&sefc=1&txp=330F224&n=NO1HWPwHEaxY8Q&sparams=expire%2Cei%2Cip%2Cid%2Caitags%2Csource%2Crequiressl%2Cxpc%2Cgcr%2Cbui%2Cspc%2Cvprv%2Csvpuc%2Cmime%2Cns%2Crqh%2Cgir%2Cclen%2Cdur%2Clmt&lsparams=mh%2Cmm%2Cmn%2Cms%2Cmv%2Cmvi%2Cpl%2Cinitcwndbps&lsig=AHWaYeowRAIgPk0rRXdQyq6DZA0LU08eIFAayWVukk6vMWF9q8Gr6eoCIGK_KPV8xa7XxqBu38cebg6LPJe1gy2PEJ93wSpcm4BC&sig=AJfQdSswRgIhAPZeTTxc-tD5KjaBUPeAlNU_z0s-TByfW0HJ6g1oGnXQAiEAzEbMQOyPlBPRMEt7Ho00nBocWUKiLrLcNfKulik6AHA%3D'},\n",
       "  {'extension': 'mp4',\n",
       "   'video_format': '135 - 854x480 (480p)',\n",
       "   'url': 'https://rr2---sn-gwpa-qxaee.googlevideo.com/videoplayback?expire=1715544312&ei=mMxAZonSM6a4rtoPuPq04AU&ip=2405%3A201%3A404a%3A4019%3A70ee%3Af9bc%3Ab331%3A5167&id=o-AOJ3lwon2FTmI_vNGPkoQmJvbeBAepVqeZTGMe4muxMk&itag=135&aitags=133%2C134%2C135%2C136%2C160%2C242%2C243%2C244%2C247%2C278%2C298%2C299%2C302%2C303&source=youtube&requiressl=yes&xpc=EgVo2aDSNQ%3D%3D&mh=KD&mm=31%2C29&mn=sn-gwpa-qxaee%2Csn-gwpa-qxae7&ms=au%2Crdu&mv=m&mvi=2&pl=42&gcr=in&initcwndbps=715000&bui=AWRWj2SAbo5oWfYBEdpRYapwVTTAaNCtdfeN90Jvvi-GdxVUX7vCX3lytSVLEomQj1ftQwxbsLBaij2f&spc=UWF9f1DdRQU-xM74o2T1wUf0ARAVO2o4hhF6nd6skm6g25I9NfXuMz0&vprv=1&svpuc=1&mime=video%2Fmp4&ns=MFOfPWsDMZfmAAZGWf25x_oQ&rqh=1&gir=yes&clen=50297093&dur=3690.500&lmt=1715440430305598&mt=1715522448&fvip=5&keepalive=yes&c=WEB&sefc=1&txp=3309224&n=NO1HWPwHEaxY8Q&sparams=expire%2Cei%2Cip%2Cid%2Caitags%2Csource%2Crequiressl%2Cxpc%2Cgcr%2Cbui%2Cspc%2Cvprv%2Csvpuc%2Cmime%2Cns%2Crqh%2Cgir%2Cclen%2Cdur%2Clmt&lsparams=mh%2Cmm%2Cmn%2Cms%2Cmv%2Cmvi%2Cpl%2Cinitcwndbps&lsig=AHWaYeowRAIgPk0rRXdQyq6DZA0LU08eIFAayWVukk6vMWF9q8Gr6eoCIGK_KPV8xa7XxqBu38cebg6LPJe1gy2PEJ93wSpcm4BC&sig=AJfQdSswRQIgGudcUs9o58_7wQIjHG9xhd3jhxb4ZABySkOZSujPehMCIQDAvXe0FzDAEwlx45v0PspHQ3MN0vC2odMUw_X9H470Zg%3D%3D'},\n",
       "  {'extension': 'webm',\n",
       "   'video_format': '302 - 1280x720 (720p60)',\n",
       "   'url': 'https://rr2---sn-gwpa-qxaee.googlevideo.com/videoplayback?expire=1715544312&ei=mMxAZonSM6a4rtoPuPq04AU&ip=2405%3A201%3A404a%3A4019%3A70ee%3Af9bc%3Ab331%3A5167&id=o-AOJ3lwon2FTmI_vNGPkoQmJvbeBAepVqeZTGMe4muxMk&itag=302&aitags=133%2C134%2C135%2C136%2C160%2C242%2C243%2C244%2C247%2C278%2C298%2C299%2C302%2C303&source=youtube&requiressl=yes&xpc=EgVo2aDSNQ%3D%3D&mh=KD&mm=31%2C29&mn=sn-gwpa-qxaee%2Csn-gwpa-qxae7&ms=au%2Crdu&mv=m&mvi=2&pl=42&gcr=in&initcwndbps=715000&bui=AWRWj2SAbo5oWfYBEdpRYapwVTTAaNCtdfeN90Jvvi-GdxVUX7vCX3lytSVLEomQj1ftQwxbsLBaij2f&spc=UWF9f1DdRQU-xM74o2T1wUf0ARAVO2o4hhF6nd6skm6g25I9NfXuMz0&vprv=1&svpuc=1&mime=video%2Fwebm&ns=MFOfPWsDMZfmAAZGWf25x_oQ&rqh=1&gir=yes&clen=70332677&dur=3690.499&lmt=1715440451999086&mt=1715522448&fvip=5&keepalive=yes&c=WEB&sefc=1&txp=330F224&n=NO1HWPwHEaxY8Q&sparams=expire%2Cei%2Cip%2Cid%2Caitags%2Csource%2Crequiressl%2Cxpc%2Cgcr%2Cbui%2Cspc%2Cvprv%2Csvpuc%2Cmime%2Cns%2Crqh%2Cgir%2Cclen%2Cdur%2Clmt&lsparams=mh%2Cmm%2Cmn%2Cms%2Cmv%2Cmvi%2Cpl%2Cinitcwndbps&lsig=AHWaYeowRAIgPk0rRXdQyq6DZA0LU08eIFAayWVukk6vMWF9q8Gr6eoCIGK_KPV8xa7XxqBu38cebg6LPJe1gy2PEJ93wSpcm4BC&sig=AJfQdSswRgIhAP2Ex3xkjiu40PIRh3U7xcwKFGt8RnNoGjmi710kPYH2AiEAq-ybR4LtKy8il2B81d48je-a6LoJdjIfwHIUJr8NJCQ%3D'},\n",
       "  {'extension': 'mp4',\n",
       "   'video_format': '136 - 1280x720 (720p)',\n",
       "   'url': 'https://rr2---sn-gwpa-qxaee.googlevideo.com/videoplayback?expire=1715544312&ei=mMxAZonSM6a4rtoPuPq04AU&ip=2405%3A201%3A404a%3A4019%3A70ee%3Af9bc%3Ab331%3A5167&id=o-AOJ3lwon2FTmI_vNGPkoQmJvbeBAepVqeZTGMe4muxMk&itag=136&aitags=133%2C134%2C135%2C136%2C160%2C242%2C243%2C244%2C247%2C278%2C298%2C299%2C302%2C303&source=youtube&requiressl=yes&xpc=EgVo2aDSNQ%3D%3D&mh=KD&mm=31%2C29&mn=sn-gwpa-qxaee%2Csn-gwpa-qxae7&ms=au%2Crdu&mv=m&mvi=2&pl=42&gcr=in&initcwndbps=715000&bui=AWRWj2SAbo5oWfYBEdpRYapwVTTAaNCtdfeN90Jvvi-GdxVUX7vCX3lytSVLEomQj1ftQwxbsLBaij2f&spc=UWF9f1DdRQU-xM74o2T1wUf0ARAVO2o4hhF6nd6skm6g25I9NfXuMz0&vprv=1&svpuc=1&mime=video%2Fmp4&ns=MFOfPWsDMZfmAAZGWf25x_oQ&rqh=1&gir=yes&clen=77892865&dur=3690.500&lmt=1715440457588804&mt=1715522448&fvip=5&keepalive=yes&c=WEB&sefc=1&txp=3309224&n=NO1HWPwHEaxY8Q&sparams=expire%2Cei%2Cip%2Cid%2Caitags%2Csource%2Crequiressl%2Cxpc%2Cgcr%2Cbui%2Cspc%2Cvprv%2Csvpuc%2Cmime%2Cns%2Crqh%2Cgir%2Cclen%2Cdur%2Clmt&lsparams=mh%2Cmm%2Cmn%2Cms%2Cmv%2Cmvi%2Cpl%2Cinitcwndbps&lsig=AHWaYeowRAIgPk0rRXdQyq6DZA0LU08eIFAayWVukk6vMWF9q8Gr6eoCIGK_KPV8xa7XxqBu38cebg6LPJe1gy2PEJ93wSpcm4BC&sig=AJfQdSswRQIgdXlGiElNdAhyXvJlNQIZB-cG8tLU5kkvKihaERKx3nQCIQD9hSEMX0ebbwCGvqsAiGaH6bB0m2pkaVg1gedHUt_L5w%3D%3D'},\n",
       "  {'extension': 'webm',\n",
       "   'video_format': '247 - 1280x720 (720p)',\n",
       "   'url': 'https://rr2---sn-gwpa-qxaee.googlevideo.com/videoplayback?expire=1715544312&ei=mMxAZonSM6a4rtoPuPq04AU&ip=2405%3A201%3A404a%3A4019%3A70ee%3Af9bc%3Ab331%3A5167&id=o-AOJ3lwon2FTmI_vNGPkoQmJvbeBAepVqeZTGMe4muxMk&itag=247&aitags=133%2C134%2C135%2C136%2C160%2C242%2C243%2C244%2C247%2C278%2C298%2C299%2C302%2C303&source=youtube&requiressl=yes&xpc=EgVo2aDSNQ%3D%3D&mh=KD&mm=31%2C29&mn=sn-gwpa-qxaee%2Csn-gwpa-qxae7&ms=au%2Crdu&mv=m&mvi=2&pl=42&gcr=in&initcwndbps=715000&bui=AWRWj2SAbo5oWfYBEdpRYapwVTTAaNCtdfeN90Jvvi-GdxVUX7vCX3lytSVLEomQj1ftQwxbsLBaij2f&spc=UWF9f1DdRQU-xM74o2T1wUf0ARAVO2o4hhF6nd6skm6g25I9NfXuMz0&vprv=1&svpuc=1&mime=video%2Fwebm&ns=MFOfPWsDMZfmAAZGWf25x_oQ&rqh=1&gir=yes&clen=79500761&dur=3690.500&lmt=1715440465949643&mt=1715522448&fvip=5&keepalive=yes&c=WEB&sefc=1&txp=330F224&n=NO1HWPwHEaxY8Q&sparams=expire%2Cei%2Cip%2Cid%2Caitags%2Csource%2Crequiressl%2Cxpc%2Cgcr%2Cbui%2Cspc%2Cvprv%2Csvpuc%2Cmime%2Cns%2Crqh%2Cgir%2Cclen%2Cdur%2Clmt&lsparams=mh%2Cmm%2Cmn%2Cms%2Cmv%2Cmvi%2Cpl%2Cinitcwndbps&lsig=AHWaYeowRAIgPk0rRXdQyq6DZA0LU08eIFAayWVukk6vMWF9q8Gr6eoCIGK_KPV8xa7XxqBu38cebg6LPJe1gy2PEJ93wSpcm4BC&sig=AJfQdSswRQIgDzSbl54UTQgU6WMAh9V00vOitDi5Sf7INlkJicG1YFECIQDuMVHpUxjurhwDJ-mtaYHvb6ttmTcwhegImSLPP-BwMw%3D%3D'},\n",
       "  {'extension': 'mp4',\n",
       "   'video_format': '298 - 1280x720 (720p60)',\n",
       "   'url': 'https://rr2---sn-gwpa-qxaee.googlevideo.com/videoplayback?expire=1715544312&ei=mMxAZonSM6a4rtoPuPq04AU&ip=2405%3A201%3A404a%3A4019%3A70ee%3Af9bc%3Ab331%3A5167&id=o-AOJ3lwon2FTmI_vNGPkoQmJvbeBAepVqeZTGMe4muxMk&itag=298&aitags=133%2C134%2C135%2C136%2C160%2C242%2C243%2C244%2C247%2C278%2C298%2C299%2C302%2C303&source=youtube&requiressl=yes&xpc=EgVo2aDSNQ%3D%3D&mh=KD&mm=31%2C29&mn=sn-gwpa-qxaee%2Csn-gwpa-qxae7&ms=au%2Crdu&mv=m&mvi=2&pl=42&gcr=in&initcwndbps=715000&bui=AWRWj2SAbo5oWfYBEdpRYapwVTTAaNCtdfeN90Jvvi-GdxVUX7vCX3lytSVLEomQj1ftQwxbsLBaij2f&spc=UWF9f1DdRQU-xM74o2T1wUf0ARAVO2o4hhF6nd6skm6g25I9NfXuMz0&vprv=1&svpuc=1&mime=video%2Fmp4&ns=MFOfPWsDMZfmAAZGWf25x_oQ&rqh=1&gir=yes&clen=90888244&dur=3690.500&lmt=1715440434205077&mt=1715522448&fvip=5&keepalive=yes&c=WEB&sefc=1&txp=3309224&n=NO1HWPwHEaxY8Q&sparams=expire%2Cei%2Cip%2Cid%2Caitags%2Csource%2Crequiressl%2Cxpc%2Cgcr%2Cbui%2Cspc%2Cvprv%2Csvpuc%2Cmime%2Cns%2Crqh%2Cgir%2Cclen%2Cdur%2Clmt&lsparams=mh%2Cmm%2Cmn%2Cms%2Cmv%2Cmvi%2Cpl%2Cinitcwndbps&lsig=AHWaYeowRAIgPk0rRXdQyq6DZA0LU08eIFAayWVukk6vMWF9q8Gr6eoCIGK_KPV8xa7XxqBu38cebg6LPJe1gy2PEJ93wSpcm4BC&sig=AJfQdSswRgIhALTY8aSuS1yvxYgEwyyJsoplR_TOX4OkWUXyRJ41EF5iAiEAv15l70svEmwUszdkdcO15lwiLo_lS-T1G0gui6Y4rvE%3D'},\n",
       "  {'extension': 'webm',\n",
       "   'video_format': '303 - 1920x1080 (1080p60)',\n",
       "   'url': 'https://rr2---sn-gwpa-qxaee.googlevideo.com/videoplayback?expire=1715544312&ei=mMxAZonSM6a4rtoPuPq04AU&ip=2405%3A201%3A404a%3A4019%3A70ee%3Af9bc%3Ab331%3A5167&id=o-AOJ3lwon2FTmI_vNGPkoQmJvbeBAepVqeZTGMe4muxMk&itag=303&aitags=133%2C134%2C135%2C136%2C160%2C242%2C243%2C244%2C247%2C278%2C298%2C299%2C302%2C303&source=youtube&requiressl=yes&xpc=EgVo2aDSNQ%3D%3D&mh=KD&mm=31%2C29&mn=sn-gwpa-qxaee%2Csn-gwpa-qxae7&ms=au%2Crdu&mv=m&mvi=2&pl=42&gcr=in&initcwndbps=715000&bui=AWRWj2SAbo5oWfYBEdpRYapwVTTAaNCtdfeN90Jvvi-GdxVUX7vCX3lytSVLEomQj1ftQwxbsLBaij2f&spc=UWF9f1DdRQU-xM74o2T1wUf0ARAVO2o4hhF6nd6skm6g25I9NfXuMz0&vprv=1&svpuc=1&mime=video%2Fwebm&ns=MFOfPWsDMZfmAAZGWf25x_oQ&rqh=1&gir=yes&clen=79751915&dur=3690.499&lmt=1715440455571051&mt=1715522448&fvip=5&keepalive=yes&c=WEB&sefc=1&txp=330F224&n=NO1HWPwHEaxY8Q&sparams=expire%2Cei%2Cip%2Cid%2Caitags%2Csource%2Crequiressl%2Cxpc%2Cgcr%2Cbui%2Cspc%2Cvprv%2Csvpuc%2Cmime%2Cns%2Crqh%2Cgir%2Cclen%2Cdur%2Clmt&lsparams=mh%2Cmm%2Cmn%2Cms%2Cmv%2Cmvi%2Cpl%2Cinitcwndbps&lsig=AHWaYeowRAIgPk0rRXdQyq6DZA0LU08eIFAayWVukk6vMWF9q8Gr6eoCIGK_KPV8xa7XxqBu38cebg6LPJe1gy2PEJ93wSpcm4BC&sig=AJfQdSswRAIgb24mvy8hs7NRCFJSB4csxVlfL41VahBz418PwGY2kt0CIFzv6o1HbZRIPbgGk5Uj9ap21wDyX7DDKGyHU84ITooS'},\n",
       "  {'extension': 'mp4',\n",
       "   'video_format': '299 - 1920x1080 (1080p60)',\n",
       "   'url': 'https://rr2---sn-gwpa-qxaee.googlevideo.com/videoplayback?expire=1715544312&ei=mMxAZonSM6a4rtoPuPq04AU&ip=2405%3A201%3A404a%3A4019%3A70ee%3Af9bc%3Ab331%3A5167&id=o-AOJ3lwon2FTmI_vNGPkoQmJvbeBAepVqeZTGMe4muxMk&itag=299&aitags=133%2C134%2C135%2C136%2C160%2C242%2C243%2C244%2C247%2C278%2C298%2C299%2C302%2C303&source=youtube&requiressl=yes&xpc=EgVo2aDSNQ%3D%3D&mh=KD&mm=31%2C29&mn=sn-gwpa-qxaee%2Csn-gwpa-qxae7&ms=au%2Crdu&mv=m&mvi=2&pl=42&gcr=in&initcwndbps=715000&bui=AWRWj2SAbo5oWfYBEdpRYapwVTTAaNCtdfeN90Jvvi-GdxVUX7vCX3lytSVLEomQj1ftQwxbsLBaij2f&spc=UWF9f1DdRQU-xM74o2T1wUf0ARAVO2o4hhF6nd6skm6g25I9NfXuMz0&vprv=1&svpuc=1&mime=video%2Fmp4&ns=MFOfPWsDMZfmAAZGWf25x_oQ&rqh=1&gir=yes&clen=154912174&dur=3690.500&lmt=1715440431875079&mt=1715522448&fvip=5&keepalive=yes&c=WEB&sefc=1&txp=3309224&n=NO1HWPwHEaxY8Q&sparams=expire%2Cei%2Cip%2Cid%2Caitags%2Csource%2Crequiressl%2Cxpc%2Cgcr%2Cbui%2Cspc%2Cvprv%2Csvpuc%2Cmime%2Cns%2Crqh%2Cgir%2Cclen%2Cdur%2Clmt&lsparams=mh%2Cmm%2Cmn%2Cms%2Cmv%2Cmvi%2Cpl%2Cinitcwndbps&lsig=AHWaYeowRAIgPk0rRXdQyq6DZA0LU08eIFAayWVukk6vMWF9q8Gr6eoCIGK_KPV8xa7XxqBu38cebg6LPJe1gy2PEJ93wSpcm4BC&sig=AJfQdSswRgIhAN30OVeVaCt2Oia6-DAA575oyE-YuqdmJinYaIrZKlW0AiEAs_k6p3c2P39OCRGczh8V0SB69qKdTDLz3S5niYHjObg%3D'},\n",
       "  {'extension': 'mp4',\n",
       "   'video_format': '18 - 640x360 (360p)',\n",
       "   'url': 'https://rr2---sn-gwpa-qxaee.googlevideo.com/videoplayback?expire=1715544312&ei=mMxAZonSM6a4rtoPuPq04AU&ip=2405%3A201%3A404a%3A4019%3A70ee%3Af9bc%3Ab331%3A5167&id=o-AOJ3lwon2FTmI_vNGPkoQmJvbeBAepVqeZTGMe4muxMk&itag=18&source=youtube&requiressl=yes&xpc=EgVo2aDSNQ%3D%3D&mh=KD&mm=31%2C29&mn=sn-gwpa-qxaee%2Csn-gwpa-qxae7&ms=au%2Crdu&mv=m&mvi=2&pl=42&gcr=in&initcwndbps=715000&bui=AWRWj2Sxfg92AhHAlGAKovESDYMWW0AO5IRFJv_Zm4HAUvOfj7aji9qRv-ZlO8ftasT_cjt1zswFMBm1&spc=UWF9f1DdRQU-xM74o2T1wUf0ARAVO2o4hhF6nd6skm6g25I9NfXuMz0&vprv=1&svpuc=1&mime=video%2Fmp4&ns=XMGm60KnTuqK-yuqszA26u0Q&rqh=1&gir=yes&clen=80989575&ratebypass=yes&dur=3690.556&lmt=1715440684854011&mt=1715522448&fvip=5&c=WEB&sefc=1&txp=3309224&n=6MUoE4cEAof7dA&sparams=expire%2Cei%2Cip%2Cid%2Citag%2Csource%2Crequiressl%2Cxpc%2Cgcr%2Cbui%2Cspc%2Cvprv%2Csvpuc%2Cmime%2Cns%2Crqh%2Cgir%2Cclen%2Cratebypass%2Cdur%2Clmt&lsparams=mh%2Cmm%2Cmn%2Cms%2Cmv%2Cmvi%2Cpl%2Cinitcwndbps&lsig=AHWaYeowRAIgPk0rRXdQyq6DZA0LU08eIFAayWVukk6vMWF9q8Gr6eoCIGK_KPV8xa7XxqBu38cebg6LPJe1gy2PEJ93wSpcm4BC&sig=AJfQdSswRgIhAMl-RAt0gOF2j5EZtVBXpJ2Ia5ibua1MQ-JetPeWLnTJAiEA0UQcu4o8tLUmBBYqrB_n09QfDgL78S6qmzKmYJHrbmg%3D'}]}"
      ]
     },
     "execution_count": 1,
     "metadata": {},
     "output_type": "execute_result"
    }
   ],
   "source": [
    "import os\n",
    "import json\n",
    "\n",
    "def extract_formate_data(formate_data):\n",
    "    extension = formate_data[\"ext\"]\n",
    "    video_format = formate_data[\"format\"]\n",
    "    url = formate_data[\"url\"]\n",
    "    return {\"extension\": extension, \n",
    "            \"video_format\": video_format, \n",
    "            \"url\": url}\n",
    "\n",
    "\n",
    "def get_video_data(url):\n",
    "    command = f'youtube-dl \"{url}\" -j'\n",
    "    output = os.popen(command).read()\n",
    "    video_data = json.loads(output)\n",
    "    title = video_data[\"title\"]\n",
    "    formats = video_data[\"formats\"]\n",
    "    all_formats = [extract_formate_data(i) for i in formats]\n",
    "    thumbnail = video_data[\"thumbnail\"]\n",
    "    return {\"title\": title, \"thumbnail\": thumbnail, \"formats\": all_formats}\n",
    "\n",
    "get_video_data(\"https://www.youtube.com/watch?v=P838MAC3wJc&t=1312s\")"
   ]
  },
  {
   "cell_type": "code",
   "execution_count": null,
   "metadata": {},
   "outputs": [],
   "source": []
  }
 ],
 "metadata": {
  "kernelspec": {
   "display_name": "venv",
   "language": "python",
   "name": "python3"
  },
  "language_info": {
   "codemirror_mode": {
    "name": "ipython",
    "version": 3
   },
   "file_extension": ".py",
   "mimetype": "text/x-python",
   "name": "python",
   "nbconvert_exporter": "python",
   "pygments_lexer": "ipython3",
   "version": "3.12.2"
  }
 },
 "nbformat": 4,
 "nbformat_minor": 2
}
